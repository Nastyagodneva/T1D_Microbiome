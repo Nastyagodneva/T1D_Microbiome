{
 "cells": [
  {
   "cell_type": "code",
   "execution_count": null,
   "metadata": {},
   "outputs": [],
   "source": [
    "import pandas as pd\n",
    "import matplotlib.pyplot as plt\n",
    "import pandas as pd\n",
    "import matplotlib.pyplot as plt\n",
    "from scipy.stats import ttest_rel, ttest_ind, mannwhitneyu\n",
    "from scipy.stats import pearsonr, spearmanr\n",
    "from DataLoaders.SubjectLoader import SubjectLoader\n",
    "from DataLoaders.GutMBLoader import GutMBLoader\n",
    "from DataLoaders.MBLoader import MBLoader\n",
    "import seaborn as sns\n",
    "    \n",
    "import numpy as np\n",
    "from sklearn.model_selection import GroupKFold\n",
    "from sklearn.metrics import r2_score\n",
    "from pingouin import partial_corr\n",
    "from DataLoaders.CGMLoader import CGMLoader\n",
    "from scipy.stats import rankdata\n",
    "import os\n",
    "\n",
    "from DataLoaders.StudySpecificLoaders.IBDLoader import IBDLoader\n",
    "\n",
    "from skbio.diversity.alpha import shannon\n",
    "def do_correl_pearson(ser1, ser2, name1 = 'microbiome column', name2 = 'phenotype column'):\n",
    "        fig = plt.figure(figsize = (5,5))\n",
    "        ax = fig.add_subplot(111)MicrobiomeReportFeaturesTenk\n",
    "        joined = pd.concat([ser1,ser2], axis = 1).dropna()\n",
    "        ax.plot(joined[ser1.name], joined[ser2.name], 'o', color = 'DarkGrey', markersize = 10, mew = 0, alpha = 0.7)\n",
    "        ax.set_xlabel(name1)\n",
    "        ax.set_ylabel(name2)\n",
    "        \n",
    "        print(pearsonr(joined[ser1.name], joined[ser2.name]))\n",
    "        print(spearmanr(joined[ser1.name], joined[ser2.name]))\n",
    "        ax.grid()\n",
    "        name_fig = name1.replace(' ', '_').replace('.', '_')+'_'+name2.replace(' ', '_').replace('.', '_')\n",
    "        print(name_fig)\n",
    "        plt.savefig('/net/mraid08/export/genie/LabData/Data/StudySpecificData/T1D/microbiome/'+name_fig)\n",
    "        \n",
    "def do_pearson(ser1, ser2, name1 = 'microbiome column', name2 = 'phenotype column'):\n",
    "        joined = pd.concat([ser1,ser2], axis = 1).dropna()\n",
    "        return pearsonr(joined[ser1.name], joined[ser2.name])\n",
    "    \n",
    "def do_mw(ser1, ser2, name1 = 'microbiome column', name2 = 'phenotype column'):\n",
    "        return mannwhitneyu(ser1[ser1.index.isin(ser2[ser2==True].index)], ser1[ser1.index.isin(ser2[ser2==False].index)])\n",
    "\n",
    "\n",
    "    \n",
    "def do_mw(ser1, ser2, name1 = 'microbiome column', name2 = 'phenotype column'):\n",
    "        return mannwhitneyu(ser1.values, ser2.values)\n",
    "\n",
    "    \n",
    "def do_mw_boxplot(ser1, ser2, name1 = 'microbiome column', name2 = 'phenotype column'):\n",
    "    fig, ax = plt.subplots()\n",
    "    joined = pd.concat([ser1,ser2], axis = 1).dropna()\n",
    "    joined.boxplot(ser1.name, by = ser2.name, ax = ax)\n",
    "   # ax.set_title('')\n",
    "    plt.show()\n",
    "    \n",
    "    \n",
    "def do_mw_boxplot_2samp(ser1, ser2, name1 = 'microbiome column', name2 = 'phenotype column'):\n",
    "    fig = plt.figure(figsize = (5,5))\n",
    "    ax = fig.add_subplot(111)\n",
    "    ser1.name = 'abund'\n",
    "    ser1 = pd.DataFrame(ser1)\n",
    "    ser2.name = 'abund'\n",
    "    ser2 = pd.DataFrame(ser2)\n",
    "    ser1['is_t1d'] = 1\n",
    "    ser2['is_t1d'] = 0\n",
    "    joined = ser1.append(ser2)\n",
    "    joined.boxplot('abund', by = 'is_t1d', ax = ax)\n",
    "   # ax.set_title('')\n",
    "    plt.show()\n",
    "        \n",
    "global_path='/net/mraid08/export/genie/LabData/Data/StudySpecificData/T1D/microbiome/'\n",
    "\n",
    "\n",
    "def shannon_divercity(ser):\n",
    "    return shannon(ser[ser>0.0001].values)\n",
    "\n",
    "def richness(ser):\n",
    "    return ser[ser>0.0001].shape[0]\n",
    "\n",
    "def fdr(p_vals):\n",
    "\n",
    "    ranked_p_values = rankdata(p_vals)\n",
    "    fdr = p_vals * len(p_vals) / ranked_p_values\n",
    "    fdr[fdr > 1] = 1\n",
    "\n",
    "    return fdr\n",
    "def do_pearson(ser1, ser2, name1='microbiome column', name2='phenotype column'):\n",
    "    joined = pd.concat([ser1, ser2], axis=1).dropna()\n",
    "    return pearsonr(joined[ser1.name], joined[ser2.name]) \n",
    "\n",
    "def do_spearman(ser1, ser2, name1='microbiome column', name2='phenotype column'):\n",
    "    joined = pd.concat([ser1, ser2], axis=1).dropna()\n",
    "    return spearmanr(joined[ser1.name], joined[ser2.name]) \n",
    "\n",
    "def do_correl_pearson_numb_adj(ser1, ser2, covar):\n",
    "        joined = pd.concat([ser1,ser2, covar], axis = 1).dropna()\n",
    "        return  partial_corr(joined, ser1.name,ser2.name, covar.name)[['r', 'p-val']].values[0]\n",
    "    \n",
    "    \n",
    "def rename_bact_name(col):\n",
    "    return col\n",
    "def compare_2_groups(df, group1, group2, group1_name='main', group2_name='control'):\n",
    "    comparison_table = pd.DataFrame(columns = [group1_name+' mean', group1_name+' std',\\\n",
    "                                               group2_name+' mean', group2_name+' std',\n",
    "                                              'ttest_pvalue'])\n",
    "    signif_cols = []\n",
    "    comparison_table.loc['number of samples', group1_name+' mean'] = len(set(group1))\n",
    "    comparison_table.loc['number of samples', group2_name+' mean'] = len(set(group2))\n",
    "    for col in df.columns:\n",
    "        A=df[col].loc[group1].dropna().values\n",
    "        B=df[col].loc[group2].dropna().values\n",
    "        if len(A)<20:\n",
    "            continue\n",
    "        comparison_table.loc[col, group1_name+' mean'] = df[col].loc[group1].dropna().mean()\n",
    "        comparison_table.loc[col, group1_name+' std'] =  df[col].loc[group1].dropna().std()\n",
    "        comparison_table.loc[col, group2_name+' mean'] = df[col].loc[group2].dropna().mean()\n",
    "        comparison_table.loc[col, group2_name+' std'] =  df[col].loc[group2].dropna().std()\n",
    "        comparison_table.loc[col, 'ttest_pvalue'] =  ttest_ind(A, B)[1]\n",
    "        comparison_table.loc[col, 'mw_pvalue'] =  mannwhitneyu(A, B)[1]\n",
    "        if ttest_ind(A, B)[1]<0.05:\n",
    "         #   print(col)\n",
    "            signif_cols = signif_cols+[col]\n",
    "          #  fig, ax = plt.subplots()\n",
    "          #  draw_plot(A, B, col)\n",
    "        #    plt.close()\n",
    "    return comparison_table, signif_cols\n",
    "\n",
    "def do_a_heatmap_and_corr_matrix(A, B, title=''):\n",
    "    A = A.rename(columns = {col:rename_bact_name(col) for col in A.columns})\n",
    "    A = A[[col for col in A.columns if 'unknown' not in col]]\n",
    "    res_pval = pd.DataFrame()\n",
    "    res_corr = pd.DataFrame()\n",
    "\n",
    "            \n",
    "            \n",
    "    for col1 in A.columns:\n",
    "        for col2 in B.columns:\n",
    "            if col1==col2 or col2=='age' or col1=='age':\n",
    "                continue\n",
    "            res_pval.loc[col1, col2] = do_pearson(A[col1], B[col2])[1]\n",
    "            res_corr.loc[col1, col2] = do_pearson(A[col1], B[col2])[0]\n",
    "\n",
    "\n",
    "    sign_corr = pd.DataFrame()\n",
    "    sign_pval = pd.DataFrame()\n",
    "\n",
    "    for col in res_pval.columns:\n",
    "        new_pval = fdr(res_pval[col]).sort_values()\n",
    "        signif = new_pval[new_pval < 0.1]\n",
    "        if signif.shape[0] > 0:\n",
    "            for ind in signif.index:\n",
    "                print(ind, signif.loc[ind])\n",
    "                do_correl_pearson(A[ind], B[col], ind,  col)\n",
    "                sign_corr.loc[ind, col] = res_corr.loc[ind, col]\n",
    "                sign_pval.loc[ind, col] = res_pval.loc[ind, col]\n",
    "    sign_pval.to_csv(os.path.join(global_path, 'pvalues_'+title+'.csv' ))\n",
    "    sign_corr.to_csv(os.path.join(global_path,'corr_' + title + '.csv'))\n",
    "    fig, ax = plt.subplots(figsize = (7, 9))\n",
    "    cmap = sns.diverging_palette(230,0, 90, 60, as_cmap=True)\n",
    "# plot heatmap\n",
    "    sns.heatmap(sign_corr.fillna(0).T, annot=False, fmt=\".2f\", \n",
    "           linewidths=0, cmap=cmap, vmin=-1, vmax=1, square=True, cbar=False)\n",
    "   # plt.show()\n",
    "    fig.savefig(os.path.join(global_path, 'sign_corr_'+title+'.png' )\n",
    " #   fig.savefig('/net/mraid08/export/genie/LabData/Data/StudySpecificData/tenk_itamar//sign_corr_'+title+'.png' )"
   ]
  },
  {
   "cell_type": "code",
   "execution_count": null,
   "metadata": {},
   "outputs": [],
   "source": [
    "import xgboost\n",
    "import pandas as pd\n",
    "from sklearn.model_selection import KFold, StratifiedKFold\n",
    "from sklearn.model_selection import cross_val_score,cross_val_predict\n",
    "import matplotlib.pyplot as plt\n",
    "import matplotlib\n",
    "from scipy.stats.stats import pearsonr\n",
    "import shap\n",
    "\n",
    "def do_regression(X, y, y_feature_name = '', plot_name = ''):\n",
    "    model = xgboost.XGBRegressor(learning_rate = 0.005, n_estimators = 2000, reg_lambda = 10, subsample = 0.75, \\\n",
    "                                        colsample_bytree = 0.4, max_depth = 60, reg_alpha = 10, min_child_weight = 50, nthread = 4, seed = 5)\n",
    "\n",
    "    X1 = X[X.index.isin(y.index)].sort_index()\n",
    "    y1 = y[y.index.isin(X1.index)].sort_index()\n",
    "\n",
    "    bins = np.linspace(0, y1.shape[0], 20)\n",
    "\n",
    "\n",
    "    y_binned = np.digitize(y1, bins)\n",
    "    kfold = StratifiedKFold(n_splits=5, random_state=17, shuffle=True)\n",
    "    results = cross_val_predict(model, X1, y1, cv=kfold.split(X1, y_binned))\n",
    "    matplotlib.rcParams.update({'font.size': 12})\n",
    "    pred_real = pd.DataFrame(columns = ['y_test', 'y_pred'])\n",
    "    pred_real['y_test']=y1\n",
    "    i=0\n",
    "    for ind in y1.index:\n",
    "        pred_real.loc[ind, 'y_pred']=results[i]\n",
    "        i = i+1\n",
    "\n",
    "    fig = plt.figure(figsize = (5,5))            \n",
    "    ax = fig.add_subplot(111)\n",
    "    pred_real = pred_real.rename(columns  ={'y_pred':'Predicted '+y_feature_name, 'y_test':'Measured '+y_feature_name})\n",
    "\n",
    "    sns.regplot(x=\" Predicted \", y=\" Measured\", data=pred_real.astype(float),x_jitter=.05, ax=ax)\n",
    "\n",
    "    plt.show()"
   ]
  },
  {
   "cell_type": "code",
   "execution_count": null,
   "metadata": {},
   "outputs": [],
   "source": [
    "t1d_adults_reg_codes = [] ##########load reg codes\n",
    "\n",
    "control_d2_reg_codes = []  ##########load reg codes"
   ]
  },
  {
   "cell_type": "code",
   "execution_count": null,
   "metadata": {},
   "outputs": [],
   "source": [
    "dates = pd.read_excel('/net/mraid08/export/genie/LabData/Data/StudySpecificData/T1D//enrollment_date.xlsx')\n",
    "\n",
    "\n",
    "dates['RegistrationCode'] = dates['RegistrationCode'].astype(str)\n",
    "\n",
    "dates=dates.set_index('RegistrationCode')\n",
    "\n",
    "dates = dates[dates.index.isin(t1d_adults_reg_codes)]\n",
    "dates"
   ]
  },
  {
   "cell_type": "code",
   "execution_count": null,
   "metadata": {},
   "outputs": [],
   "source": [
    "\n",
    "\n",
    "all_mbl = GutMBLoader()\n",
    "segata_species = all_mbl.get_data(df = 'segata_species', reg_ids = t1d_adults_reg_codes, groupby_reg='largest').df\n",
    "\n",
    "#, study_ids=[6], groupby_reg='largest', take_log = True, min_col_present_frac=0.25).df_metadata.set_index('RegistrationCode')\n",
    "#[col for col in segata_species.columns if 'uminococcus' in col and 'bromii' in col]\n",
    "\n",
    "#Ruminococcus bromii"
   ]
  },
  {
   "cell_type": "code",
   "execution_count": null,
   "metadata": {},
   "outputs": [],
   "source": [
    "all_mbl.get_data(df = 'segata_species', reg_ids = t1d_adults_reg_codes, groupby_reg='largest').df_metadata['age'].describe()"
   ]
  },
  {
   "cell_type": "code",
   "execution_count": null,
   "metadata": {},
   "outputs": [],
   "source": [
    "celiac = ['2103540',  '2130360', '2311735', '2718102', '2264805', '2696293', '2768372']\n",
    "\n",
    "all_mbl = GutMBLoader()\n",
    "all_mb_md = all_mbl.get_data(df = 'segata_species',reg_ids=t1d_adults_reg_codes, study_ids=[6], groupby_reg='largest', take_log = True, min_col_present_frac=0.25).df_metadata.set_index('RegistrationCode')\n",
    "#all_mb_md = all_mb_md[~all_mb_md.index.isin(['2565375FD3314_v0_fullrun'])]\n",
    "\n",
    "\n",
    "\n",
    "td_microbiome_species = all_mbl.get_data(df = 'segata_species',reg_ids=t1d_adults_reg_codes,groupby_reg='first', study_ids=[6],min_col_present_frac=0.35,take_log = True)\n",
    "td_microbiome_species = td_microbiome_species.df.join(td_microbiome_species.df_metadata[['RegistrationCode']]).set_index('RegistrationCode')\n",
    "\n",
    "td_microbiome_species = td_microbiome_species[~td_microbiome_species.index.isin(celiac)]\n",
    "\n",
    "\n",
    "td_microbiome_genus = all_mbl.get_data(df = 'segata_genus',reg_ids=t1d_adults_reg_codes, study_ids=[6], groupby_reg='largest', take_log = True, min_col_present_frac=0.35)\n",
    "td_microbiome_genus = td_microbiome_genus.df.join(td_microbiome_genus.df_metadata[['RegistrationCode']]).set_index('RegistrationCode')\n",
    "td_microbiome_genus = td_microbiome_genus[~td_microbiome_genus.index.isin(celiac)]\n",
    "\n",
    "td_microbiome_family = all_mbl.get_data(df = 'segata_family',reg_ids=t1d_adults_reg_codes, study_ids=[6], groupby_reg='largest', take_log = True, min_col_present_frac=0.35)\n",
    "td_microbiome_family = td_microbiome_family.df.join(td_microbiome_family.df_metadata[['RegistrationCode']]).set_index('RegistrationCode')\n",
    "\n",
    "td_microbiome_family = td_microbiome_family[~td_microbiome_family.index.isin(celiac)]\n",
    "td_microbiome_family = td_microbiome_family.loc[t1d_adults_reg_codes]\n",
    "print(td_microbiome_family.shape)"
   ]
  },
  {
   "cell_type": "code",
   "execution_count": null,
   "metadata": {},
   "outputs": [],
   "source": [
    "all_mbl = GutMBLoader()\n",
    "pnp1_microbiome_species = all_mbl.get_data(df = 'segata_species',groupby_reg='first', reg_ids = control_d2_reg_codes, take_log = True,study_ids=[1000],min_col_present_frac=0.3)\n",
    "pnp1_microbiome_species = pnp1_microbiome_species.df.join(pnp1_microbiome_species.df_metadata[['RegistrationCode']]).set_index('RegistrationCode')\n",
    "\n",
    "\n",
    "\n",
    "\n",
    "pnp1_microbiome_genus = all_mbl.get_data(df = 'segata_genus', study_ids=[1000], reg_ids = control_d2_reg_codes, groupby_reg='largest', take_log = True, min_col_present_frac=0.25)\n",
    "pnp1_microbiome_genus = pnp1_microbiome_genus.df.join(pnp1_microbiome_genus.df_metadata[['RegistrationCode']]).set_index('RegistrationCode')\n",
    "\n",
    "\n",
    "pnp1_microbiome_family = all_mbl.get_data(df = 'segata_family', study_ids=[1000], reg_ids = control_d2_reg_codes,groupby_reg='largest', take_log = True, min_col_present_frac=0.25)\n",
    "pnp1_microbiome_family = pnp1_microbiome_family.df.join(pnp1_microbiome_family.df_metadata[['RegistrationCode']]).set_index('RegistrationCode')\n",
    "pnp1_microbiome_family = pnp1_microbiome_family[~pnp1_microbiome_family.index.isin(celiac)]\n"
   ]
  },
  {
   "cell_type": "code",
   "execution_count": null,
   "metadata": {},
   "outputs": [],
   "source": [
    "from DataLoaders.BloodTestsLoader import BloodTestsLoader\n",
    "from DataLoaders.BodyMeasuresLoader import BodyMeasuresLoader\n",
    "\n",
    "\n",
    "btl = BloodTestsLoader()\n",
    "\n",
    "btld = btl.get_data(groupby_reg='first', study_ids=[6]).df.reset_index().set_index('RegistrationCode')\n",
    "\n",
    "\n",
    "btld = btld.groupby(btld.index).first()\n",
    "\n",
    "ml = BodyMeasuresLoader()\n",
    "\n",
    "mld = ml.get_data(groupby_reg='first',study_ids=[6]).df.reset_index().set_index('RegistrationCode')\n",
    "\n",
    "mld = mld.groupby(mld.index).first()\n",
    "\n",
    "\n",
    "from DataLoaders.CGMLoader import CGMLoader\n",
    "def time_in_good_range(one):\n",
    "    return one[one>70][one<180].shape[0]/one.shape[0]\n",
    "\n",
    "cgml=CGMLoader()\n",
    "cgmld = cgml.get_data(study_ids = [6]).df\n",
    "\n",
    "cgm_features  = pd.DataFrame()\n",
    "\n",
    "cgm_features['average'] = cgmld.groupby(level='RegistrationCode')['GlucoseValue'].mean()\n",
    "cgm_features['noise'] = cgmld.groupby(level='RegistrationCode')['GlucoseValue'].std()\n",
    "cgm_features['variability'] = cgmld.groupby(level='RegistrationCode')['GlucoseValue'].std()/cgmld.groupby(level='RegistrationCode')['GlucoseValue'].mean()\n",
    "cgm_features['ppgr_95p'] = cgmld.groupby(level='RegistrationCode')['PPGR'].quantile(0.95)\n",
    "cgm_features['ppgr_median'] = cgmld.groupby(level='RegistrationCode')['PPGR'].quantile(0.5)\n",
    "cgm_features['time_in_good_range'] = cgmld.groupby(level='RegistrationCode')['GlucoseValue'].apply(time_in_good_range)\n",
    "\n",
    "\n",
    "from DataLoaders import DietLoggingLoader\n",
    "dll = DietLoggingLoader.DietLoggingLoader()\n",
    "\n",
    "dlld = dll.get_data(study_ids=6)\n",
    "\n",
    "\n",
    "log = dll.add_nutrients(dlld.df, nutrient_list=['energy_kcal', 'carbohydrate_g', 'protein_g', 'totallipid_g'])\n",
    "log = log.reset_index()\n",
    "log['Day']  = log['Date'].astype(str).str[:10]\n",
    "log = log.reset_index().groupby('RegistrationCode')[['energy_kcal','carbohydrate_g','protein_g','totallipid_g']].sum()\n",
    "log = log.reset_index()\n",
    "log['carb_ratio'] = log['carbohydrate_g']/ log['energy_kcal']*400\n",
    "log['protein_ratio'] = log['protein_g']/ log['energy_kcal']*400\n",
    "log['lipid_ratio'] = log['totallipid_g']/ log['energy_kcal']*900\n",
    "\n",
    "cgm_features = cgm_features.join(log.set_index('RegistrationCode')[['carb_ratio','protein_ratio','lipid_ratio' ]])\n",
    "\n",
    "all_mb_md['year'] = all_mb_md['Date'].apply(lambda x: x.year)\n",
    "dates = pd.read_excel('/net/mraid08/export/genie/LabData/Data/StudySpecificData/T1D//enrollment_date.xlsx')\n",
    "\n",
    "\n",
    "dates['RegistrationCode'] = dates['RegistrationCode'].astype(str)\n",
    "dates=dates.set_index('RegistrationCode')\n",
    "#all_mb_md['age'] = dates['year']+all_mb_md['age']-2018\n",
    "#all_mb_md.loc['2590032', age] = 18\n",
    "\n",
    "\n",
    "md = pd.concat([all_mb_md[['age', 'gender']], mld[['weight', 'bmi']], btld[[\n",
    "    'bt__hdl_cholesterol',\n",
    "       'bt__glucose','bt__triglycerides', \n",
    "       'bt__ldl_cholesterol', 'bt__hba1c', \n",
    "       'bt__total_cholesterol']],cgm_features ]) \n",
    "\n",
    "\n",
    "\n",
    "\n",
    "\n",
    "md = md.groupby(md.index).first()\n",
    "#.dropna(subset=['bt__hba1c'])\n",
    "\n",
    "###comment out if you want everyone\n",
    "\n",
    "#md = md[md['age']>17]\n",
    "md = md[md.index.isin(td_microbiome_family.index)]\n",
    "#.dropna(subset=['bt__hba1c'])\n",
    "reg_ids = md.index\n",
    "md_with_age = md\n",
    "#[md.index.isin(td_microbiome_family.index)].dropna(subset=['bt__hba1c']).index"
   ]
  },
  {
   "cell_type": "code",
   "execution_count": null,
   "metadata": {},
   "outputs": [],
   "source": [
    "btld[btld.index.isin(t1d_adults_reg_codes)].describe().dropna(axis=1).to_csv(os.path.join(global_path, 'bt_stats.csv'))"
   ]
  },
  {
   "cell_type": "code",
   "execution_count": null,
   "metadata": {},
   "outputs": [],
   "source": [
    "sl = SubjectLoader()\n",
    "\n",
    "t1d_subj = sl.get_data(groupby_reg='first', study_ids=6)\n",
    "\n",
    "\n",
    "all_t2d_subj = t1d_subj.df.reset_index().set_index('RegistrationCode')\n",
    "\n",
    "dates2 = dates.loc[all_t2d_subj.index]\n",
    "\n",
    "\n",
    "t2d_all_with_dates = pd.concat([all_t2d_subj, dates['year']], axis=1)\n",
    "\n",
    "\n",
    "t2d_all_with_dates['age'] = t2d_all_with_dates['year']-t2d_all_with_dates['yob']\n",
    "\n",
    "#print(t2d_all_with_dates[t2d_all_with_dates['age']>17])\n",
    "t2d_all_with_dates.loc[reg_ids]['age'].mean()"
   ]
  },
  {
   "cell_type": "code",
   "execution_count": null,
   "metadata": {},
   "outputs": [],
   "source": [
    "td_microbiome_family[td_microbiome_family.index.duplicated()]"
   ]
  },
  {
   "cell_type": "code",
   "execution_count": null,
   "metadata": {},
   "outputs": [],
   "source": [
    "dates.loc['2590032']"
   ]
  },
  {
   "cell_type": "code",
   "execution_count": null,
   "metadata": {},
   "outputs": [],
   "source": [
    "md.loc['2590032', 'age'] = 18"
   ]
  },
  {
   "cell_type": "code",
   "execution_count": null,
   "metadata": {},
   "outputs": [],
   "source": [
    "md[['age','gender','weight','bmi','bt__triglycerides','bt__hba1c','average','time_in_good_range', 'carb_ratio','protein_ratio','lipid_ratio']].describe().to_csv('/net/mraid08/export/genie/LabData/Data/StudySpecificData/T1D//microbiome//cohort_basics.csv')\n",
    "md[['age','gender','weight','bmi','bt__triglycerides','bt__hba1c','average','time_in_good_range', 'carb_ratio','protein_ratio','lipid_ratio']].describe()"
   ]
  },
  {
   "cell_type": "code",
   "execution_count": null,
   "metadata": {},
   "outputs": [],
   "source": [
    "md.columns\n",
    "\n",
    "md = md[['bt__hdl_cholesterol', 'bt__triglycerides', 'bt__total_cholesterol', 'bt__hba1c',\n",
    "        'average', 'time_in_good_range', 'bt__ldl_cholesterol']]"
   ]
  },
  {
   "cell_type": "code",
   "execution_count": null,
   "metadata": {},
   "outputs": [],
   "source": [
    "yod = pd.read_excel('/net/mraid08/export/genie/LabData/Data/StudySpecificData/T1D/year_of_diagnosis.xlsx', engine='openpyxl')\n",
    "yod['RegistrationCode'] = yod['RegistrationCode'].astype(str)\n",
    "yod = yod[yod['RegistrationCode'].isin(t1d_adults_reg_codes)]\n",
    "yod['year_Of_diagnosis'] = 2018-yod['Year']\n",
    "yod['year_Of_diagnosis'].describe()"
   ]
  },
  {
   "cell_type": "code",
   "execution_count": null,
   "metadata": {},
   "outputs": [],
   "source": [
    "from DataLoaders.BloodTestsLoader import BloodTestsLoader\n",
    "from DataLoaders.BodyMeasuresLoader import BodyMeasuresLoader\n",
    "\n",
    "\n",
    "btl = BloodTestsLoader()\n",
    "\n",
    "btld = btl.get_data(groupby_reg='first',reg_ids = control_d2_reg_codes, study_ids=[1000]).df.reset_index().set_index('RegistrationCode')\n",
    "\n",
    "\n",
    "btld = btld.groupby(btld.index).first()\n",
    "\n",
    "\n",
    "\n",
    "md_d2 =  btld[['bt__hdl_cholesterol',\n",
    "       'bt__glucose',  'bt__triglycerides',\n",
    "       'bt__ldl_cholesterol', 'bt__hba1c',\n",
    "       'bt__total_cholesterol']]\n",
    "\n",
    "md_d2\n",
    "\n",
    "#reg_ids = md[md.index.isin(td_microbiome_family.index)].dropna(subset=['bt__hba1c']).index"
   ]
  },
  {
   "cell_type": "code",
   "execution_count": null,
   "metadata": {},
   "outputs": [],
   "source": [
    "al_micr_t1d = td_microbiome_species.join(td_microbiome_genus).join(td_microbiome_family)"
   ]
  },
  {
   "cell_type": "code",
   "execution_count": null,
   "metadata": {},
   "outputs": [],
   "source": [
    "al_micr_d2 = pnp1_microbiome_species.join(pnp1_microbiome_genus).join(pnp1_microbiome_family)"
   ]
  },
  {
   "cell_type": "code",
   "execution_count": null,
   "metadata": {},
   "outputs": [],
   "source": [
    "sp1= 'k__Bacteria|p__Firmicutes|c__Clostridia|o__Clostridiales|f__Clostridiaceae|g__Clostridium|s__Clostridium_sp|fSGB__1439|gSGB__3529|sSGB__4715'"
   ]
  },
  {
   "cell_type": "code",
   "execution_count": null,
   "metadata": {},
   "outputs": [],
   "source": [
    "rel_pathways = pd.read_pickle('/net/mraid08/export/genie/LabData/Data/StudySpecificData/T1D/relative_pathways.df')\n",
    "all_path =rel_pathways.notna().sum()\n",
    "interesting_pathways = all_path[all_path>100].index\n",
    "rel_pathways = rel_pathways[interesting_pathways].fillna(0.00001)\n",
    "td_microbiome_family = all_mbl.get_data(df = 'segata_family', study_ids=[6], groupby_reg='largest', take_log = True, min_col_present_frac=0.25)\n",
    "\n",
    "rel_pathways = rel_pathways.join(td_microbiome_family.df_metadata[['RegistrationCode\n",
    "\n",
    "rel_pathways = rel_pathways.dropna(subset=['RegistrationCode']).set_index('RegistrationCode')\n",
    "rel_pathways = rel_pathways[rel_pathways.index.isin(reg_ids)]\n",
    "do_a_heatmap_and_corr_matrix(rel_pathways, md, 'associations_pathways_adults_pearson.jpg')"
   ]
  },
  {
   "cell_type": "code",
   "execution_count": null,
   "metadata": {},
   "outputs": [],
   "source": [
    "pathway = 'PWY-7208: superpathway of pyrimidine nucleobases salvage'\n",
    "phen_col = 'average'\n",
    "fig,ax=plt.subplots(figsize=(6,6))\n",
    "\n",
    "do_correl_pearson(rel_pathways[pathway].apply(lambda x: np.log10(x)),md[phen_col], name1=pathway, name2 = 'CGM Glucose Average')\n",
    "\n",
    "plt.show()\n"
   ]
  },
  {
   "cell_type": "code",
   "execution_count": null,
   "metadata": {},
   "outputs": [],
   "source": [
    "pathway = 'k__Bacteria|p__Bacteroidetes|c__Bacteroidia|o__Bacteroidales|f__Prevotellaceae|g__Paraprevotella|fSGB__592|gSGB__1340'\n",
    "phen_col = 'bt__hba1c'\n",
    "fig,ax=plt.subplots(figsize=(6,6))\n",
    "\n",
    "#sns.regplot(al_micr_t1d[pathway],md[phen_col] )\n",
    "\n",
    "do_correl_pearson(al_micr_t1d[pathway], md[phen_col], name2 = 'HbA1C (%)', name1='f__Prevotellaceae|fSGB__592')\n",
    "\n",
    "\n"
   ]
  },
  {
   "cell_type": "code",
   "execution_count": null,
   "metadata": {},
   "outputs": [],
   "source": [
    "do_a_heatmap_and_corr_matrix(rel_pathways.apply(lambda x: np.log10(x)), md[[col for col in md.columns if 'trig' not in col]], 'associations_pathways_adults_pearson_log')"
   ]
  },
  {
   "cell_type": "code",
   "execution_count": null,
   "metadata": {},
   "outputs": [],
   "source": [
    "pathway_log = rel_pathways.apply(lambda x: np.log10(x))\n",
    "\n",
    "#pathway_log['PWY-7198: pyrimidine deoxyribonucleotides de novo biosynthesis IV'].hist()\n",
    "#plt.show()\n",
    "\n",
    "\n",
    "do_correl_pearson(pathway_log['PWY-5677: succinate fermentation to butanoate'], md['bt__triglycerides'])"
   ]
  },
  {
   "cell_type": "code",
   "execution_count": null,
   "metadata": {},
   "outputs": [],
   "source": [
    "do_correl_pearson(al_micr_t1d[sp1], md['protein_ratio'])"
   ]
  },
  {
   "cell_type": "code",
   "execution_count": null,
   "metadata": {},
   "outputs": [],
   "source": [
    "sp1='k__Bacteria|p__Firmicutes|c__Clostridia|o__Clostridiales|f__Clostridiaceae|g__Clostridium|s__Clostridium_sp_CAG_122|fSGB__1422|gSGB__3487|sSGB__4659'"
   ]
  },
  {
   "cell_type": "code",
   "execution_count": null,
   "metadata": {},
   "outputs": [],
   "source": [
    "do_correl_pearson(td_microbiome_species[sp1].apply(lambda x: np.log10(x)), md['average'])"
   ]
  },
  {
   "cell_type": "code",
   "execution_count": null,
   "metadata": {},
   "outputs": [],
   "source": [
    "do_a_heatmap_and_corr_matrix(td_microbiome_species, md, 'associations_species_adults_pearson')"
   ]
  },
  {
   "cell_type": "code",
   "execution_count": null,
   "metadata": {},
   "outputs": [],
   "source": [
    "do_a_heatmap_and_corr_matrix(td_microbiome_genus, md, 'associations_genus_adults_pearson')"
   ]
  },
  {
   "cell_type": "code",
   "execution_count": null,
   "metadata": {},
   "outputs": [],
   "source": [
    "td_microbiome_family = all_mbl.get_data(df = 'segata_family',reg_ids=t1d_adults_reg_codes, study_ids=[6], groupby_reg='largest', take_log = True, min_col_present_frac=0.25)\n",
    "td_microbiome_family = td_microbiome_family.df.join(td_microbiome_family.df_metadata[['RegistrationCode']]).set_index('RegistrationCode')\n",
    "\n",
    "td_microbiome_family = td_microbiome_family[~td_microbiome_family.index.isin(celiac)]\n",
    "td_microbiome_family = td_microbiome_family.loc[t1d_adults_reg_codes]\n",
    "do_a_heatmap_and_corr_matrix(td_microbiome_family, md, 'associations_family_adults_pearson')"
   ]
  },
  {
   "cell_type": "code",
   "execution_count": null,
   "metadata": {},
   "outputs": [],
   "source": [
    "hbac_cols = ['k__Bacteria|p__Bacteroidetes|c__Bacteroidia|o__Bacteroidales|f__Prevotellaceae|fSGB__592',\n",
    "            'k__Bacteria|p__Bacteroidetes|c__Bacteroidia|o__Bacteroidales|f__Prevotellaceae|g__Paraprevotella|fSGB__592|gSGB__1340',\n",
    "            'k__Bacteria|p__Firmicutes|c__Clostridia|o__Clostridiales|f__Clostridiaceae|fSGB__1422',\n",
    "            'k__Bacteria|p__Firmicutes|c__Clostridia|o__Clostridiales|f__Clostridiaceae|fSGB__1422']\n",
    "            \n",
    "\n",
    "\n",
    "for col in hbac_cols:\n",
    "    print(col)\n",
    "    do_correl_pearson(al_micr_d2[col], md_d2['bt__hba1c'], name1 = col, name2 = 'hba1c')\n",
    "   # do_correl_pearson(al_micr_pnp1[col], md_pnp1['bt__hba1c'])"
   ]
  },
  {
   "cell_type": "code",
   "execution_count": null,
   "metadata": {},
   "outputs": [],
   "source": [
    "\n",
    "trig_cols = ['k__Bacteria|p__Firmicutes|c__Clostridia|o__Clostridiales|f__no_consensus|fSGB__1421',\n",
    "             'k__Bacteria|p__Firmicutes|c__no_consensus|o__no_consensus|f__no_consensus|fSGB__1451']\n",
    "for col in trig_cols:\n",
    "    print(col)\n",
    "   # do_correl_pearson(td_microbiome_family[col], md['bt__triglycerides'], name1=col, name2='triglycerides')\n",
    "    do_correl_pearson(al_micr_d2[col], md_d2['bt__triglycerides'].apply(lambda x: 350 if x>300 else x))\n"
   ]
  },
  {
   "cell_type": "code",
   "execution_count": null,
   "metadata": {},
   "outputs": [],
   "source": [
    "k__Bacteria|p__Firmicutes|c__Clostridia|o__Clostridiales|f__Ruminococcaceae|g__Faecalibacterium|s__Faecalibacterium_prausnitzii|fSGB__3058|gSGB__9741|sSGB__15339"
   ]
  },
  {
   "cell_type": "code",
   "execution_count": null,
   "metadata": {},
   "outputs": [],
   "source": [
    "chol_columns = ['k__Bacteria|p__Firmicutes|c__Clostridia|o__Clostridiales|f__Ruminococcaceae|g__Faecalibacterium|s__Faecalibacterium_prausnitzii|fSGB__3058|gSGB__9741|sSGB__15339']\n",
    "for col in chol_columns:\n",
    "    print(col)\n",
    "   # do_correl_pearson(td_microbiome_species[col], md['bt__total_cholesterol'], name1=col, name2='total_cholesterol')\n",
    "    do_correl_pearson(al_micr_d2[col], md_d2['bt__total_cholesterol'])"
   ]
  },
  {
   "cell_type": "code",
   "execution_count": null,
   "metadata": {},
   "outputs": [],
   "source": [
    "md_d2.columns"
   ]
  },
  {
   "cell_type": "code",
   "execution_count": null,
   "metadata": {},
   "outputs": [],
   "source": [
    "do_a_heatmap_and_corr_matrix(combine_by_ncbi(td_microbiome_genus), md, 'associations_genus_adults_pearson_ncbi')"
   ]
  },
  {
   "cell_type": "code",
   "execution_count": null,
   "metadata": {},
   "outputs": [],
   "source": [
    "from LabData.DataUtils.tenk_microbiome_report import MicrobiomeReportFeaturesTenk\n",
    "all_mbl = GutMBLoader()\n",
    "all_mb = all_mbl.get_data(df = 'segata_species', groupby_reg='largest')\n",
    "all_mb = all_mb.df.join(all_mb.df_metadata[['RegistrationCode']]).set_index('RegistrationCode')\n",
    "#set1 = all_mb[all_mb.index.isin(t1d_adults['SampleName'].values)]\n",
    "set1 =  all_mb[all_mb.index.isin(td_microbiome_family.index)]\n",
    "\n",
    "t1d_micr_features = MicrobiomeReportFeaturesTenk(set1).return_aggregated_features()\n",
    "\n"
   ]
  },
  {
   "cell_type": "code",
   "execution_count": null,
   "metadata": {},
   "outputs": [],
   "source": [
    "do_a_heatmap_and_corr_matrix(t1d_micr_features, md, 'associations_features_adults_pearson')"
   ]
  },
  {
   "cell_type": "code",
   "execution_count": null,
   "metadata": {},
   "outputs": [],
   "source": [
    "control_d2_set = ['22001811620303_v0_fullrun', '22001811624815_v0_d', '22001908602331_v0_fullrun', '22001908606092_v0_fullrun', 'sample_22001811623966_v0_fullrun', '22001904611784_v0_fullrun', '22001811620980_v0_fullrun', '22001811625263_v0_d', '22001904601366_v0_fullrun', '22001904604665_v0_fullrun', '22001908603832_v0_fullrun', '22001908606793_v0_fullrun', '22001908611724_v0_fullrun', '22001908612813_v0_fullrun', '22001908614033_v0_fullrun', 'sample_22001908606102_v0_fullrun', '22001904602877_v0_fullrun', '22001904611222_v0_fullrun', '22001910715224_v0_fullrun', '22001808560026_v0_d', '22001811620492_v0_d', '22001811622761_v0_fullrun', '22001811624022_v0_fullrun', '22001901560891_v0_fullrun', '22001901564392_v0_fullrun', '22001901565263_v0_fullrun', '22001904600571_v0_fullrun', '22001904612392_v0_fullrun', '22001901560227_v0_fullrun', '22001901564387_v0_fullrun', '22001904611657_v0_fullrun', '22001908601637_v0_fullrun', '22001908605007_v0_fullrun', '22001908606869_v0_fullrun', '22001807541046_v0_fullrun', '22001811621637_v0_fullrun', '22001811623933_v0_d', '22001901560597_v0_fullrun', '22001901562055_v0_fullrun', '22001901565309_v0_fullrun', '22001904600681_v0_fullrun', '22001904603238_v0_fullrun', '22001904603929_v0_fullrun', '22001904611847_v0_fullrun', '22001904612932_v0_fullrun', '22001904613662_v0_fullrun', '22001908603456_v0_fullrun', '22001908604130_v0_fullrun', '22001908606445_v0_fullrun', '22001908610765_v0_fullrun', '22001908611706_v0_fullrun', '22001908612065_v0_fullrun', '22001908612144_v0_fullrun', '22001908613305_v0_fullrun', '22001908613496_v0_fullrun', '22001908614158_v0_fullrun', '22001910702306_v0_fullrun', '22001910704606_v0_fullrun', 'sample_22001811623249_v0_fullrun', 'sample_22001901561813_v0_fullrun', 'sample_22001901562094_v0_fullrun', '22001808562827_v0_fullrun', '22001808562866_v0_fullrun', '22001811620733_v0_fullrun', '22001811621106_v0_d', '22001811621838_v0_fullrun', '22001811622376_v0_d', '22001811622462_v0_fullrun', '22001811622492_v0_fullrun', '22001811623256_v0_d', '22001904610821_v0_fullrun', '22001904611264_v0_fullrun', 'sample_22001904604342_v0_fullrun', 'sample_22001908600603_v0_fullrun', 'sample_22001908604845_v0_fullrun', '22001806580438_v0_fullrun', '22001901560193_v0_fullrun', '22001901561117_v0_fullrun', '22001901561311_v0_fullrun', '22001901563665_v0_fullrun', '22001901563890_v0_fullrun', '22001904600820_v0_fullrun', '22001904603817_v0_fullrun', '22001904603960_v0_fullrun', '22001904604072_v0_fullrun', '22001904604539_v0_fullrun', '22001904610319_v0_fullrun', '22001904612434_v0_fullrun', '22001904612637_v0_fullrun', '22001904612840_v0_fullrun', '22001811622387_v0_d', '22001811623708_v0_fullrun', '22001811624230_v0_fullrun', '22001901561619_v0_fullrun', '22001904600472_v0_fullrun', '22001904602617_v0_fullrun', '22001904610307_v0_fullrun', '22001904611650_v0_fullrun', '22001904614418_v0_fullrun', '22001908600997_v0_fullrun', '22001811620037_v0_fullrun', '22001811620330_v0_fullrun', '22001811621578_v0_fullrun', '22001811622073_v0_fullrun', '22001811622918_v0_fullrun', '22001811622923_v0_fullrun', '22001811623327_v0_fullrun', '22001811623478_v0_fullrun', '22001811625221_v0_d', '22001811624737_v0_d', '22001908601539_v0_fullrun', '22001908602537_v0_fullrun', '22001908612664_v0_fullrun', '22001908614653_v0_fullrun', '22001910715030_v0_fullrun', '22001804573155_v0_fullrun', '22001811620283_v0_fullrun', '22001811621042_v0_fullrun', '22001811621104_v0_d', '22001811621126_v0_fullrun', '22001811622284_v0_fullrun', '22001807542048_v0_d', '22001808563073_v0_fullrun', '22001811620089_v0_fullrun', '22001811620242_v0_fullrun', '22001807540846_v0_fullrun', '22001808560174_v0_fullrun', '22001810500201_v0_fullrun', '22001811620119_v0_d', '22001811620422_v0_fullrun', '22001811622172_v0_d', '22001811622629_v0_fullrun', '22001811624075_v0_fullrun', '22001811624824_v0_fullrun', '22001901561554_v0_fullrun', '22001901562201_v0_fullrun', '22001901562437_v0_fullrun', '22001808560712_v0_fullrun', '22001901561604_v0_fullrun', '22001901563041_v0_fullrun', '22001904614046_v0_fullrun', '22001904614126_v0_fullrun', '22001904614845_v0_fullrun', '22001908605604_v0_fullrun', '22001908610064_v0_fullrun', '22001805620384_v0_fullrun', '22001808563110_v0_fullrun', '22001808564027_v0_fullrun', '22001811620775_v0_fullrun', '22001811621310_v0_fullrun', '22001811621530_v0_fullrun', '22001808564045_v0_d', '22001901563654_v0_fullrun', '22001901564961_v0_fullrun', '22001908602945_v0_fullrun', '22001804571742_v0_fullrun', '22001806580283_v0_d', '22001808561540_v0_d', '22001808561851_v0_fullrun', '22001810502134_v0_fullrun', '22001811620979_v0_fullrun', '22001811621296_v0_d', '22001811622036_v0_fullrun', '22001811622224_v0_fullrun', '22001808560242_v0_d', '22001811620446_v0_fullrun', '22001811623169_v0_d', '22001811624749_v0_d', '22001901560079_v0_fullrun', '22001901560137_v0_fullrun', '22001811620810_v0_fullrun', '22001811620838_v0_fullrun', '22001811621337_v0_fullrun', '22001811621675_v0_d', '22001811622217_v0_fullrun', '22001811623831_v0_d', '22001808563752_v0_fullrun', '22001811621679_v0_d', '22001811622826_v0_fullrun', '22001811624374_v0_d', '22001804572506_v0_fullrun', '22001811620846_v0_d', '22001811621774_v0_d', '22001811622924_v0_d', '22001811623014_v0_d', '22001811623530_v0_fullrun', '22001807541949_v0_fullrun', '22001811620152_v0_fullrun', '22001811621901_v0_fullrun', '22001811622856_v0_fullrun', '1711522133_v0_fullrun', '22001806580152_v0_fullrun', '22001808560349_v0_d', '22001808562718_v0_fullrun', '22001811620708_v0_fullrun', '22001811621293_v0_d', '22001808561425_v0_fullrun', '22001808563180_v0_fullrun', '22001811621168_v0_d', '22001811622065_v0_fullrun', '22001807540696_v0_fullrun', '22001808560217_v0_d', '22001808563623_v0_fullrun', '22001808561987_v0_d', '22001808562605_v0_fullrun', '22001808563476_v0_d', '22001811620403_v0_fullrun', '22001811620465_v0_d', '22001808561161_v0_fullrun', '22001811620116_v0_fullrun', '1808612517_v0_fullrun', '22001811620948_v0_fullrun', '22001811622346_v0_fullrun', '22001811622869_v0_d', '22001811623422_v0_fullrun', '22001811623465_v0_d', '22001805621063_v0_d', '22001807540014_v0_d', '22001808562141_v0_fullrun', '22001811623015_v0_fullrun', '1711522955_v0_d', '22001807542913_v0_fullrun', '22001808560301_v0_fullrun', '22001811620061_v0_fullrun', '22001811620130_v0_fullrun', '22001811621069_v0_fullrun', '1711521467_v0_d', '22001803510227_v0_fullrun', '22001806581160_v0_fullrun', '22001808563255_v0_fullrun', '22001805620410_v0_d', '22001808560099_v0_d', '22001808560227_v0_fullrun', '22001811620765_v0_fullrun', '22001811621275_v0_d', '22001811624330_v0_d', '22001804571128_v0_d', '22001808561065_v0_d', '22001811624028_v0_fullrun', '22001811624282_v0_fullrun', '22001806581159_v0_fullrun', '22001807540071_v0_fullrun', '22001807540414_v0_fullrun', '22001807540799_v0_fullrun', '22001807542936_v0_fullrun', '22001808563244_v0_fullrun', '22001804571187_v0_fullrun', '22001804572542_v0_fullrun', '22001807540381_v0_fullrun', '22001808563292_v0_fullrun', '22001804572166_v0_d', '22001806580067_v0_d', '22001807540900_v0_fullrun', '22001811620312_v0_fullrun', '22001811620686_v0_fullrun', '22001811620877_v0_fullrun', '1711520771_v0_fullrun', '22001804571413_v0_fullrun', '22001804573900_v0_fullrun', '22001806581783_v0_fullrun', '22001803510797_v0_fullrun', '22001808560172_v0_fullrun', '22001808561013_v0_fullrun', '22001811621289_v0_d', '22001811621934_v0_d', '22001804572591_v0_fullrun', '22001807540972_v0_fullrun', '22001807542904_v0_d', '22001808561052_v0_fullrun', '22001808562734_v0_fullrun', '22001811620017_v0_d', '22001808560735_v0_fullrun', '22001808563585_v0_fullrun', '22001808563989_v0_fullrun', '22001811620010_v0_fullrun', '22001806580835_v0_d', '22001807500438_v0_d', '22001807543042_v0_d', '22001804573508_v0_fullrun', '22001808561641_v0_fullrun', '1905642166_v0_fullrun', '22001807500843_v0_fullrun', '22001807540141_v0_fullrun', '22001807540365_v0_fullrun', '22001808560819_v0_fullrun', '1711522224_v0_fullrun', '22001806580334_v0_fullrun', '22001808560933_v0_d', '22001811622049_v0_d', '22001811624001_v0_d', '22001805620387_v0_fullrun', '22001807540143_v0_d', '22001811620322_v0_fullrun', '22001811620659_v0_fullrun', '22001811621099_v0_fullrun', '22001811622472_v0_d', '22001806581170_v0_d', '22001807540380_v0_fullrun', '22001808560658_v0_fullrun', '22001808560885_v0_d', '22001804571030_v0_fullrun', '22001804573446_v0_fullrun', '22001808561468_v0_fullrun', '22001808562956_v0_fullrun', '22001811620245_v0_d', '22001806581725_v0_fullrun', '22001808561001_v0_d', '22001808562576_v0_fullrun', '22001811620447_v0_fullrun', '22001811621380_v0_d', '22001811621791_v0_d', '22001807540408_v0_fullrun', '22001808560233_v0_fullrun', '22001811620015_v0_fullrun', '22001811621123_v0_d', '22001806514601_v0_fullrun', '22001806581146_v0_fullrun', '22001808560344_v0_d', '22001806514624_v0_fullrun', '22001811620996_v0_d', '22001808562584_v0_fullrun', '22001811620042_v0_fullrun', '22001811620438_v0_fullrun', '22001807540516_v0_fullrun', '22001811620546_v0_d']"
   ]
  },
  {
   "cell_type": "code",
   "execution_count": null,
   "metadata": {},
   "outputs": [],
   "source": [
    "all_mb.df_metadata[all_mb.df_metadata.index.isin(control_d2_set)]['Date'].sort_values()"
   ]
  },
  {
   "cell_type": "code",
   "execution_count": null,
   "metadata": {},
   "outputs": [],
   "source": [
    "print(len(control_d2_set))"
   ]
  },
  {
   "cell_type": "code",
   "execution_count": null,
   "metadata": {},
   "outputs": [],
   "source": [
    "import os\n",
    "folder = '/net/mraid08/export/genie/LabData/Data/MBPipeline/NovaSeq/tmp2/UNT'\n",
    "folder_clalit =  '/net/mraid08/export/genie/LabData/Data/MBPipeline/ClalitD2/tmp2/UNT'\n",
    "\n",
    "all_mbl = GutMBLoader()\n",
    "all_mb = all_mbl.get_data(df = 'segata_species', study_ids=[6], )\n",
    "other_samps = all_mb.df_metadata.index\n",
    "\n",
    "names = []\n",
    "\n",
    "        \n",
    "for fastq_file in other_samps:\n",
    "    if os.path.exists(os.path.join(folder,fastq_file+'.fastq.gz' )):\n",
    "        names+=[os.path.join(folder,fastq_file+'.fastq.gz' )]\n",
    "    elif os.path.exists(os.path.join(folder_clalit,fastq_file+'.fastq.gz' )):\n",
    "         names+=[os.path.join(folder_clalit,fastq_file+'.fastq.gz' )]\n",
    "    else:\n",
    "        print('missing', fastq_file)\n",
    "        \n",
    "    print(len(names))\n",
    "import pickle\n",
    "with open('/net/mraid08/export/genie/LabData/Data/StudySpecificData/T1D/sample_pathes_t1d.pkl', 'wb') as f:\n",
    "    pickle.dump(names, f)"
   ]
  },
  {
   "cell_type": "code",
   "execution_count": null,
   "metadata": {},
   "outputs": [],
   "source": [
    "import os\n",
    "folder = '/net/mraid08/export/genie/LabData/Data/MBPipeline/NovaSeq/tmp2/UNT'\n",
    "folder_clalit =  '/net/mraid08/export/genie/LabData/Data/MBPipeline/ClalitD2/tmp2/UNT'\n",
    "\n",
    "all_mbl = GutMBLoader()\n",
    "all_mb = all_mbl.get_data(df = 'segata_species', study_ids=[6, 19], )\n",
    "other_samps = all_mb.df_metadata.index\n",
    "\n",
    "names = []\n",
    "\n",
    "\n",
    "for fastq_file in control_d2_set:\n",
    "    if os.path.exists(os.path.join(folder,fastq_file+'.fastq.gz' )):\n",
    "        names+=[os.path.join(folder,fastq_file+'.fastq.gz' )]\n",
    "    elif os.path.exists(os.path.join(folder_clalit,fastq_file+'.fastq.gz' )):\n",
    "         names+=[os.path.join(folder_clalit,fastq_file+'.fastq.gz' )]\n",
    "    else:\n",
    "        print('missing', fastq_file)\n",
    "        \n",
    "for fastq_file in other_samps:\n",
    "    if os.path.exists(os.path.join(folder,fastq_file+'.fastq.gz' )):\n",
    "        names+=[os.path.join(folder,fastq_file+'.fastq.gz' )]\n",
    "    elif os.path.exists(os.path.join(folder_clalit,fastq_file+'.fastq.gz' )):\n",
    "         names+=[os.path.join(folder_clalit,fastq_file+'.fastq.gz' )]\n",
    "    else:\n",
    "        print('missing', fastq_file)\n"
   ]
  },
  {
   "cell_type": "code",
   "execution_count": null,
   "metadata": {},
   "outputs": [],
   "source": [
    "import os\n",
    "folder = '/net/mraid08/export/genie/LabData/Data/MBPipeline/NovaSeq/tmp2/UNT'\n",
    "folder_clalit =  '/net/mraid08/export/genie/LabData/Data/MBPipeline/ClalitD2/tmp2/UNT'\n",
    "\n",
    "\n",
    "names = []\n",
    "\n",
    "\n",
    "for fastq_file in control_d2_set:\n",
    "    if os.path.exists(os.path.join(folder,fastq_file+'.fastq.gz' )):\n",
    "        names+=[os.path.join(folder,fastq_file+'.fastq.gz' )]\n",
    "    elif os.path.exists(os.path.join(folder_clalit,fastq_file+'.fastq.gz' )):\n",
    "         names+=[os.path.join(folder_clalit,fastq_file+'.fastq.gz' )]\n",
    "    else:\n",
    "        print('missing', fastq_file)\n",
    "\n",
    "\n",
    "import pickle\n",
    "with open('/net/mraid08/export/genie/LabData/Data/StudySpecificData/T1D/control_sample_pathes.pkl', 'wb') as f:\n",
    "    pickle.dump(names, f)\n",
    "\n"
   ]
  },
  {
   "cell_type": "code",
   "execution_count": null,
   "metadata": {},
   "outputs": [],
   "source": [
    "import pandas as pd\n",
    "import matplotlib.pyplot as plt\n",
    "from scipy.stats import ttest_rel, ttest_ind\n",
    "from DataLoaders.SubjectLoader import SubjectLoader\n",
    "\n",
    "from DataLoaders.GutMBLoader import GutMBLoader\n",
    "\n",
    "from DataLoaders.CGMLoader import CGMLoader"
   ]
  },
  {
   "cell_type": "code",
   "execution_count": null,
   "metadata": {},
   "outputs": [],
   "source": [
    "\n"
   ]
  },
  {
   "cell_type": "code",
   "execution_count": null,
   "metadata": {},
   "outputs": [],
   "source": [
    "all_mbl = GutMBLoader()\n",
    "all_mb = all_mbl.get_data(df = 'segata_species', study_ids=[1000,6], take_log=True, min_col_present_frac=0.2)\n",
    "all_mb_md = all_mb.df_metadata.set_index('RegistrationCode')\n",
    "all_mb_md.head(3)\n",
    "\n",
    "all_mb_md.loc[all_mb_md.index.isin(dates.index), 'Date'] = dates['Date']\n",
    "#dates"
   ]
  },
  {
   "cell_type": "code",
   "execution_count": null,
   "metadata": {},
   "outputs": [],
   "source": [
    "pnp1_mbl = GutMBLoader()\n",
    "pnp1_mb = pnp1_mbl.get_data(df = 'segata_species', study_ids=[1], take_log=True, min_col_present_frac=0.2)\n",
    "pnp1_mb_md = pnp1_mb.df_metadata.set_index('RegistrationCode')\n",
    "pnp1_mb_md.head(3)\n",
    "\n",
    "#pnp1_mb_md.loc[pnp1_mb_md.index.isin(dates.index), 'Date'] = dates['Date']"
   ]
  },
  {
   "cell_type": "code",
   "execution_count": null,
   "metadata": {},
   "outputs": [],
   "source": [
    "#'2020-03-23-D2',\n",
    "\n",
    "excluded_runs = ['2020-03-08-D2', '2020-04-12-D2','2020-05-04-D2','2020-05-24-D2',\\\n",
    "                 '2020-05-27-D2', '2020-06-01-D2',\n",
    "                '2020-05-27-D2, 2020-06-01-D2']\n"
   ]
  },
  {
   "cell_type": "code",
   "execution_count": null,
   "metadata": {},
   "outputs": [],
   "source": [
    "mbl = GutMBLoader()\n",
    "\n",
    "t1d_mbl = mbl.get_data(df='segata_species', study_ids=6)\n",
    "\n",
    "print(t1d_mbl.df.shape)"
   ]
  },
  {
   "cell_type": "code",
   "execution_count": null,
   "metadata": {},
   "outputs": [],
   "source": [
    "from DataLoaders.BodyMeasuresLoader import BodyMeasuresLoader\n",
    "\n",
    "bml = BodyMeasuresLoader()\n",
    "\n",
    "bmld = bml.get_data(study_ids=6)\n",
    "\n",
    "bmld.df[bmld.df.index.get_level_values(0).isin(t1d_mbl.df_metadata['RegistrationCode'].values)]"
   ]
  },
  {
   "cell_type": "code",
   "execution_count": null,
   "metadata": {},
   "outputs": [],
   "source": [
    "t1d_reg_codes = t1d_mbl.df_metadata['RegistrationCode'].values\n",
    "len(t1d_reg_codes)"
   ]
  },
  {
   "cell_type": "code",
   "execution_count": null,
   "metadata": {},
   "outputs": [],
   "source": [
    "all_mb_md = all_mb.df_metadata\n",
    "#all_mb_md = all_mb_md[~all_mb_md.index.isin(['2565375FD3314_v0_fullrun'])]\n",
    "all_mb_md = all_mb_md.reset_index().set_index('RegistrationCode')\n",
    "all_mb_md.loc[all_mb_md.index.isin(dates.index), 'Date'] = dates['Date']\n",
    "\n",
    "all_mb_md['StorageDT'].dropna()"
   ]
  },
  {
   "cell_type": "code",
   "execution_count": null,
   "metadata": {},
   "outputs": [],
   "source": [
    "t2d_mbmd = all_mb_md.dropna(subset=['StorageDT'])"
   ]
  },
  {
   "cell_type": "code",
   "execution_count": null,
   "metadata": {},
   "outputs": [],
   "source": [
    "dates1 = dates.loc[t2d_mbmd.index]\n",
    "\n",
    "dates1"
   ]
  },
  {
   "cell_type": "code",
   "execution_count": null,
   "metadata": {},
   "outputs": [],
   "source": [
    "all_t2d_subj = t1d_subj.df.reset_index().set_index('RegistrationCode')\n",
    "\n",
    "dates2 = dates.loc[all_t2d_subj.index]\n",
    "\n",
    "\n",
    "t2d_all_with_dates = pd.concat([all_t2d_subj, dates2['year']], axis=1)\n",
    "\n",
    "\n",
    "t2d_all_with_dates['age'] = t2d_all_with_dates['year']-t2d_all_with_dates['yob']\n",
    "\n",
    "print(t2d_all_with_dates[t2d_all_with_dates['age']>17].shape)"
   ]
  },
  {
   "cell_type": "code",
   "execution_count": null,
   "metadata": {},
   "outputs": [],
   "source": [
    "t2d_mbmd_with_dates = pd.concat([t2d_mbmd, dates1], axis=1)\n",
    "\n",
    "\n",
    "t2d_mbmd_with_dates['age'] = dates1['year']-t2d_mbmd_with_dates['yob']\n",
    "\n",
    "#ages[ages>17].shape\n",
    "#ages[ages<18].shape"
   ]
  },
  {
   "cell_type": "code",
   "execution_count": null,
   "metadata": {},
   "outputs": [],
   "source": [
    "celiac = ['2103540',  '2130360', '2311735', '2718102', '2264805', '2696293', '2768372']\n",
    "t1d_adults = t2d_mbmd_with_dates[t2d_mbmd_with_dates['age']>17]\n",
    "t1d_adults = t1d_adults[~t1d_adults.index.isin(celiac)]\n",
    "\n",
    "\n",
    "\n",
    "t1d_children = t2d_mbmd_with_dates[t2d_mbmd_with_dates['age']<18]\n",
    "t1d_adults_reg_codes = t1d_adults.index\n",
    "t1d_children_reg_codes = t1d_children.index"
   ]
  },
  {
   "cell_type": "code",
   "execution_count": null,
   "metadata": {},
   "outputs": [],
   "source": [
    "all_mbl = GutMBLoader()\n",
    "all_mb = all_mbl.get_data(df = 'segata_species', study_ids=[1000,6], take_log=True, min_col_present_frac=0.2)\n",
    "\n",
    "all_mb_md = all_mb.df_metadata\n",
    "all_mb_md = all_mb_md.reset_index().set_index('RegistrationCode')\n",
    "\n",
    "all_mb_md['Date'].sort_values().dropna()"
   ]
  },
  {
   "cell_type": "markdown",
   "metadata": {},
   "source": [
    "Participant with stool samples metadata"
   ]
  },
  {
   "cell_type": "markdown",
   "metadata": {},
   "source": [
    "control_adults_samples"
   ]
  },
  {
   "cell_type": "code",
   "execution_count": null,
   "metadata": {},
   "outputs": [],
   "source": [
    "all_mbl = GutMBLoader()\n",
    "all_mb = all_mbl.get_data(df = 'segata_species', study_ids=[1000,6], take_log=True, min_col_present_frac=0.2)\n",
    "all_mb_md = all_mb.df_metadata\n",
    "#all_mb_md = all_mb_md[~all_mb_md.index.isin(['2565375FD3314_v0_fullrun'])]\n",
    "\n",
    "all_mb_md = all_mb_md.reset_index().set_index('RegistrationCode')\n",
    "all_mb_md.loc[all_mb_md.index.isin(dates.index), 'Date'] = dates['Date']\n",
    "all_mb_md = all_mb_md.reset_index().set_index('SampleName')\n",
    "#all_mb_md = all_mb_md[~all_mb_md['RunName'].isin(excluded_runs)]\n",
    "\n",
    "\n",
    "#all_mb_md['age'] =  all_mb_md['Date'].apply(lambda x: x.year)-all_mb_md['yob']\n",
    "\n",
    "\n",
    "print('initial size of samples ', all_mb_md.shape)\n",
    "\n",
    "all_mb_md['country'] = all_mb_md['country'].fillna('IL')\n",
    "\n",
    "print('only israeli samples ', all_mb_md[all_mb_md['country']=='IL'].shape)  \n",
    "#all_mb_md = all_mb_md[all_mb_md['Nextera'].isna()].append(all_mb.df_metadata[all_mb.df_metadata['Nextera']=='None'])"
   ]
  },
  {
   "cell_type": "code",
   "execution_count": null,
   "metadata": {},
   "outputs": [],
   "source": [
    "from DataLoaders.DiagnosesLoader import DiagnosesLoader\n",
    "\n",
    "dl = DiagnosesLoader()\n",
    "\n",
    "all_mbl = GutMBLoader()\n",
    "all_mb = all_mbl.get_data(df = 'segata_species', study_ids=[1000,6], take_log=True, min_col_present_frac=0.2)\n",
    "all_mb_md = all_mb.df_metadata\n",
    "all_mb_md = all_mb_md.reset_index().set_index('RegistrationCode')\n",
    "all_mb_md.loc[all_mb_md.index.isin(dates.index), 'Date'] = dates['Date']\n",
    "all_mb_md = all_mb_md.reset_index().set_index('SampleName')\n",
    "#all_mb_md = all_mb_md[~all_mb_md['RunName'].isin(excluded_runs)]\n",
    "\n",
    "\n",
    "all_mb_md['age'] =  all_mb_md['Date'].apply(lambda x: x.year)-all_mb_md['yob']\n",
    "\n",
    "\n",
    "print('initial size of samples ', all_mb_md.shape)\n",
    "\n",
    "\n",
    "all_mb_md = all_mb_md[all_mb_md['Nextera'].isna()].append(all_mb.df_metadata[all_mb.df_metadata['Nextera']=='None'])\n",
    "all_mb_md['country'] = all_mb_md['country'].fillna('IL')\n",
    "\n",
    "\n",
    "print('correct sequencing method ', all_mb_md.shape)\n",
    "\n",
    "diag = dl.get_data(study_ids=[1000,6]).df\n",
    "\n",
    "excl_deseases = ['fatty_liver_disease', 'autoimmune_disease', 'cholangitis_or_other_bile-related_disease',\\\n",
    "'hepatitis_or_other_liver_disease', 'metabolic_sydrome', 'ulcerative_colitis', 'diverticulosis',\\\n",
    "'gestational_diabetes','type_2_diabetes', 'cancer', 'inflammatory_bowel_disease', 'pancreatic_disease(s)',\\\n",
    "'celiac_disease',  'irritable_bowel_syndrome', 'crohns_disease','pre_diabetes','type_1_diabetes', 'undetermined_colitis',\\\n",
    " 'hiv', 'morbid_obesity','impaired_glucose_tolerance_or_impaired_fasting_glucose']\n",
    "\n",
    "allowed=[]\n",
    "for ind in diag.index.get_level_values(0):\n",
    "    if diag.loc[ind][excl_deseases].max().dropna().max()==0:\n",
    "        allowed+=[ind]\n",
    "        \n",
    "print('only israeli samples ', all_mb_md[all_mb_md['country']=='IL'].shape)   \n",
    "\n",
    "\n",
    "    \n",
    "  #  if age<30:\n",
    "  #      to_add0 = all_mb_md[all_mb_md['country']=='IL'][all_mb_md['RegistrationCode'].isin(allowed)][all_mb_md['StudyTypeID']==1000][\n",
    "  #      all_mb_md['age']==age][all_mb_md['gender']==0].head(4*max(number_of_age,2))   \n",
    "  #      to_add1 = all_mb_md[all_mb_md['country']=='IL'][all_mb_md['RegistrationCode'].isin(allowed)][all_mb_md['StudyTypeID']==1000][\n",
    " #       all_mb_md['age']==age][all_mb_md['gender']==1].head(2*max(number_of_age,2))  \n",
    " #       to_add = to_add0.append(to_add1)\n",
    " #   else:\n",
    "   #     to_add0 = all_mb_md[all_mb_md['country']=='IL'][all_mb_md['RegistrationCode'].isin(allowed)][all_mb_md['StudyTypeID']==1000][\n",
    "  #      all_mb_md['age']==age][all_mb_md['gender']==0].head(2*number_of_age)\n",
    " #       to_add1 = all_mb_md[all_mb_md['country']=='IL'][all_mb_md['RegistrationCode'].isin(allowed)][all_mb_md['StudyTypeID']==1000][\n",
    " #       all_mb_md['age']==age][all_mb_md['gender']==1].head(2*number_of_age)\n",
    "#        to_add = to_add0.append(to_add1)\n",
    "  #-  control_d2_samples = control_d2_samples+list(to_add.index)\n",
    "    \n",
    "#remove = all_mb_md.loc[control_d2_samples][all_mb_md['age'].isin([68, 67, 66])][all_mb_md['gender']==0].index\n",
    "    \n",
    "#control_d2_samples = [samp for samp in control_d2_samples if samp not in remove]"
   ]
  },
  {
   "cell_type": "code",
   "execution_count": null,
   "metadata": {},
   "outputs": [],
   "source": [
    "md_with_age"
   ]
  },
  {
   "cell_type": "code",
   "execution_count": null,
   "metadata": {},
   "outputs": [],
   "source": [
    "day2_healthy = all_mb_md[all_mb_md['country']=='IL'][all_mb_md['RegistrationCode'].isin(allowed)][all_mb_md['StudyTypeID']==1000]\n",
    "control_d2_samples = []\n",
    "\n",
    "print('only healthy participants ', day2_healthy.shape)  \n",
    "t1d_adults = md_with_age\n",
    "\n",
    "for age in set(sorted(t1d_adults['age'].values)):\n",
    "    number_of_age = t1d_adults[t1d_adults['age']==age].shape[0]\n",
    "    if age==18:\n",
    "        to_add1 = all_mb_md[all_mb_md['country']=='IL'][all_mb_md['RegistrationCode'].isin(allowed)][all_mb_md['StudyTypeID']==1000][\n",
    "        all_mb_md['age'].isin([18,19,20,22,23])].head(4*number_of_age)\n",
    "        allowed = [a for a in allowed if a not in to_add1['RegistrationCode'].values]\n",
    "        control_d2_samples = control_d2_samples+list(to_add1.index)\n",
    "        print(age, number_of_age, len(list(to_add1.index)))\n",
    "    elif age==21:\n",
    "        to_add1 = all_mb_md[all_mb_md['country']=='IL'][all_mb_md['RegistrationCode'].isin(allowed)][all_mb_md['StudyTypeID']==1000][\n",
    "        all_mb_md['age'].isin([21,22])].head(4*number_of_age)\n",
    "        allowed = [a for a in allowed if a not in to_add1['RegistrationCode'].values]\n",
    "        control_d2_samples = control_d2_samples+list(to_add1.index)\n",
    "        print(age, number_of_age, len(list(to_add1.index)))\n",
    "    elif age==19:\n",
    "        to_add1 = all_mb_md[all_mb_md['country']=='IL'][all_mb_md['RegistrationCode'].isin(allowed)][all_mb_md['StudyTypeID']==1000][\n",
    "        all_mb_md['age'].isin([19,20])].head(4*number_of_age)\n",
    "        allowed = [a for a in allowed if a not in to_add1['RegistrationCode'].values]\n",
    "        control_d2_samples = control_d2_samples+list(to_add1.index)\n",
    "        print(age, number_of_age, len(list(to_add1.index)))\n",
    "    else:\n",
    "        to_add1 = all_mb_md[all_mb_md['country']=='IL'][all_mb_md['RegistrationCode'].isin(allowed)][all_mb_md['StudyTypeID']==1000][\n",
    "        all_mb_md['age']==age].head(4*number_of_age)\n",
    "        control_d2_samples = control_d2_samples+list(to_add1.index)\n",
    "        print(age, number_of_age, len(list(to_add1.index)))"
   ]
  },
  {
   "cell_type": "code",
   "execution_count": null,
   "metadata": {},
   "outputs": [],
   "source": [
    "len(control_d2_samples)"
   ]
  },
  {
   "cell_type": "code",
   "execution_count": null,
   "metadata": {},
   "outputs": [],
   "source": [
    "len(control_d2_samples)"
   ]
  },
  {
   "cell_type": "code",
   "execution_count": null,
   "metadata": {},
   "outputs": [],
   "source": [
    "len(t1d_adults_reg_codes)"
   ]
  },
  {
   "cell_type": "code",
   "execution_count": null,
   "metadata": {},
   "outputs": [],
   "source": [
    "all_mb_md[all_mb_md['RegistrationCode'].isin(t1d_adults_reg_codes)]['RunName'].value_counts().sort_index()"
   ]
  },
  {
   "cell_type": "code",
   "execution_count": null,
   "metadata": {},
   "outputs": [],
   "source": [
    "all_mb_md[all_mb_md['RegistrationCode'].isin(t1d_adults_reg_codes)]['age'].mean()\n",
    "#.loc[reg_ids]['age'].mean()"
   ]
  },
  {
   "cell_type": "code",
   "execution_count": null,
   "metadata": {},
   "outputs": [],
   "source": [
    "len(set(t1d_adults_reg_codes))"
   ]
  },
  {
   "cell_type": "code",
   "execution_count": null,
   "metadata": {},
   "outputs": [],
   "source": [
    "from DataLoaders.BloodTestsLoader import BloodTestsLoader\n",
    "from DataLoaders.BodyMeasuresLoader import BodyMeasuresLoader\n",
    "\n",
    "\n",
    "btl = BloodTestsLoader()\n",
    "\n",
    "btld = btl.get_data(groupby_reg='first').df.reset_index().set_index('RegistrationCode')\n",
    "\n",
    "\n",
    "btld = btld.groupby(btld.index).first()\n",
    "\n",
    "ml = BodyMeasuresLoader()\n",
    "\n",
    "mld = ml.get_data(groupby_reg='first').df.reset_index().set_index('RegistrationCode')\n",
    "\n",
    "mld = mld.groupby(mld.index).first()\n",
    "\n",
    "\n",
    "control_d2_healthy = all_mb_md[all_mb_md.index.isin(control_d2_samples)]\n",
    "md = pd.concat([all_mb_md.set_index('RegistrationCode')[['age', 'gender']], mld[['weight', 'bmi']], btld[['bt__hba1c']]]) \n",
    "\n",
    "md = md.groupby(md.index).first()\n",
    "\n",
    "compare_2_groups(md, t1d_adults_reg_codes, control_d2_healthy['RegistrationCode'].values, group1_name='t1d adults', group2_name='control adults')[0].round(2)\n"
   ]
  },
  {
   "cell_type": "code",
   "execution_count": null,
   "metadata": {},
   "outputs": [],
   "source": [
    "compare_2_groups(md, t1d_adults_reg_codes, control_d2_healthy['RegistrationCode'].values, group1_name='t1d adults', group2_name='control adults')[0].round(2).to_csv(os.path.join(global_path, 'chort_cpmparison.csv'))"
   ]
  },
  {
   "cell_type": "code",
   "execution_count": null,
   "metadata": {},
   "outputs": [],
   "source": [
    "len(control_d2_healthy['RegistrationCode'].values)"
   ]
  },
  {
   "cell_type": "code",
   "execution_count": null,
   "metadata": {},
   "outputs": [],
   "source": [
    "old_t2d = md.loc[control_d2_healthy['RegistrationCode'].values]['age'].sort_values().tail(12)"
   ]
  },
  {
   "cell_type": "code",
   "execution_count": null,
   "metadata": {},
   "outputs": [],
   "source": [
    "compare_2_groups(md, t1d_adults_reg_codes, control_d2_healthy['RegistrationCode'].values, group1_name='t1d adults', group2_name='control adults')[0].round(2)"
   ]
  },
  {
   "cell_type": "code",
   "execution_count": null,
   "metadata": {},
   "outputs": [],
   "source": [
    "from LabData.DataUtils.tenk_microbiome_report import MicrobiomeReportFeaturesTenk\n",
    "all_mbl = GutMBLoader()\n",
    "all_mb = all_mbl.get_data(df = 'segata_species')\n",
    "all_mb = all_mb.df.join(all_mb.df_metadata[['RegistrationCode']]).set_index('RegistrationCode')\n",
    "#set1 = all_mb[all_mb.index.isin(t1d_adults['SampleName'].values)]\n",
    "set1 =  all_mb[all_mb.index.isin(md.index)]\n",
    "\n",
    "t1d_micr_features = MicrobiomeReportFeaturesTenk(set1).return_aggregated_features()\n",
    "\n"
   ]
  },
  {
   "cell_type": "code",
   "execution_count": null,
   "metadata": {},
   "outputs": [],
   "source": [
    "t2d_samples  = all_mb_md[all_mb_md['RegistrationCode'].isin(t1d_adults.index)].index\n",
    "t2d_samples = [s for s in t2d_samples if '2565375FD3314_v0_fullrun' not in s]\n",
    "print(len(t2d_samples))"
   ]
  },
  {
   "cell_type": "code",
   "execution_count": null,
   "metadata": {},
   "outputs": [],
   "source": [
    "t2d_samples_celiac  = all_mb_md[all_mb_md['RegistrationCode'].isin(['2264805', '2696293', '2768372'])].index\n",
    "t2d_samples_celiac = [s for s in t2d_samples_celiac if '2565375FD3314_v0_fullrun' not in s]\n",
    "print(len(t2d_samples_celiac))"
   ]
  },
  {
   "cell_type": "code",
   "execution_count": null,
   "metadata": {},
   "outputs": [],
   "source": [
    "set_celiac = all_mb[all_mb.index.isin(t2d_samples_celiac)]\n",
    "MicrobiomeReportFeaturesTenk(set_celiac).return_aggregated_features()['propionate_producing'].mean()"
   ]
  },
  {
   "cell_type": "code",
   "execution_count": null,
   "metadata": {},
   "outputs": [],
   "source": [
    "control_micr_features['propionate_producing'].sort_values().hist(bins=10)\n",
    "plt.show()"
   ]
  },
  {
   "cell_type": "code",
   "execution_count": null,
   "metadata": {},
   "outputs": [],
   "source": [
    "all_mb_md.loc[control_micr_features['propionate_producing'].index]['PostHGFRC'].sort_values()"
   ]
  },
  {
   "cell_type": "code",
   "execution_count": null,
   "metadata": {},
   "outputs": [],
   "source": [
    "all_mbl = GutMBLoader()\n",
    "all_mb = all_mbl.get_data(df = 'segata_species')\n",
    "all_mb = all_mb.df\n",
    "all_mb.head(3)\n",
    "set1 = all_mb[all_mb.index.isin(t2d_samples)]\n",
    "\n",
    "set2 = all_mb[all_mb.index.isin(control_d2_samples)]\n",
    "\n",
    "\n",
    "\n",
    "t1d_micr_features = MicrobiomeReportFeaturesTenk(set1).return_aggregated_features(\n",
    "control_micr_features = MicrobiomeReportFeaturesTenk(set2).return_aggregated_features()\n",
    "\n",
    "\n",
    "print(compare_2_groups(t1d_micr_features.append(control_micr_features),t1d_micr_features.index,\n",
    "                       control_micr_features.index))"
   ]
  },
  {
   "cell_type": "code",
   "execution_count": null,
   "metadata": {},
   "outputs": [],
   "source": [
    "comparing = compare_2_groups(t1d_micr_features.append(control_micr_features),t1d_micr_features.index,\n",
    "                       control_micr_features.index)[0]\n",
    "\n",
    "\n",
    "comparing = comparing.loc[['firm_to_bact_ratio', 'shannon_divercity',\n",
    "       'richness', 'propionate_producing', 'accetate_producing', 'akkermania',\n",
    "       'alipastes', 'roseburia', 'eubacterium', 'butirate_producing',\n",
    "       'faecalibacterium']]\n",
    "print(comparing['mw_pvalue'])\n",
    "\n",
    "fdr(comparing['mw_pvalue'].values)"
   ]
  },
  {
   "cell_type": "code",
   "execution_count": null,
   "metadata": {},
   "outputs": [],
   "source": [
    "import os\n",
    "folder = '/net/mraid08/export/genie/LabData/Data/MBPipeline/NebNext/tmp2/UNT'\n",
    "folder1 = '/net/mraid08/export/genie/LabData/Data/MBPipeline/NovaSeq/tmp2/UNT'\n",
    "folder2 = '/net/mraid08/export/genie/LabData/Data/MBPipeline/NebNext_new/tmp2/UNT'\n",
    "folder_clalit =  '/net/mraid08/export/genie/LabData/Data/MBPipeline/ClalitD2/tmp2/UNT'\n",
    "\n",
    "\n",
    "names = []\n",
    "i=0\n",
    "\n",
    "for fastq_file in control_d2_samples:\n",
    "    if os.path.exists(os.path.join(folder,fastq_file+'.fastq.gz' )):\n",
    "        names+=[os.path.join(folder,fastq_file+'.fastq.gz' )]\n",
    "    elif os.path.exists(os.path.join(folder_clalit,fastq_file+'.fastq.gz' )):\n",
    "        names+=[os.path.join(folder_clalit,fastq_file+'.fastq.gz' )]\n",
    "    elif os.path.exists(os.path.join(folder1,fastq_file+'.fastq.gz' )):\n",
    "        names+=[os.path.join(folder1,fastq_file+'.fastq.gz' )]\n",
    "        \n",
    "    elif os.path.exists(os.path.join(folder2,fastq_file+'.fastq.gz' )):\n",
    "        names+=[os.path.join(folder2,fastq_file+'.fastq.gz' )]\n",
    "    else:\n",
    "      #  print('missing', fastq_file)\n",
    "        i=i+1\n",
    "print(i)\n",
    "\n",
    "import pickle\n",
    "with open('/net/mraid08/export/genie/LabData/Data/StudySpecificData/T1D/control_sample_pathes.pkl', 'wb') as f:\n",
    "    pickle.dump(names, f)"
   ]
  },
  {
   "cell_type": "code",
   "execution_count": null,
   "metadata": {},
   "outputs": [],
   "source": [
    "i"
   ]
  },
  {
   "cell_type": "code",
   "execution_count": null,
   "metadata": {},
   "outputs": [],
   "source": [
    "compare_2_groups(t1d_micr_features.append(control_micr_features),t1d_micr_features.index,\n",
    "                       control_micr_features.index)[0].to_excel('comparing_micr_functions_adults.xlsx')"
   ]
  },
  {
   "cell_type": "code",
   "execution_count": null,
   "metadata": {},
   "outputs": [],
   "source": [
    "all_mbl = GutMBLoader()\n",
    "all_mb = all_mbl.get_data(df = 'segata_species')\n",
    "all_mb = all_mb.df\n",
    "all_mb.head(3)\n",
    "set1 = all_mb[all_mb.index.isin(t1d_adults['SampleName'].values)]\n",
    "\n",
    "set2 = all_mb[all_mb.index.isin(control_d2_samples)]\n",
    "\n",
    "pvalues = pd.DataFrame(index = set1.columns, columns = ['pvalue', 'MWp_fdr_HC_MS', 'man_whitney_direction', 'MS_mean', 'HC_mean'])\n",
    "#pd.DataFrame(index = ibd_microbiome.columns, columns = ['pvalues', 'pvalues_fdr', 'pearson_corr'])\n",
    "#.MWp_fdr_HC_MS, Bac, MS_mean, HC_mean\n",
    "\n",
    "for col in set1:\n",
    "    if (set1[col].fillna(0.0001)[set1[col].fillna(0.0001)>0.0001].shape[0]+set2[col].fillna(0.0001)[set2[col].fillna(0.0001)>0.0001].shape[0])<15:\n",
    "        continue\n",
    "  #  if set2[col].fillna(0.0001)[set2[col].fillna(0.0001)>0.0001].shape[0]<10:\n",
    "  #      continue\n",
    "    pvalues.loc[col, 'pvalue'] = do_mw(set1.fillna(0.0001)[col], set2.fillna(0.0001)[col])[1]\n",
    "    pvalues.loc[col, 'man_whitney_direction'] = set1[col].mean()-set2[col].mean()\n",
    "    pvalues.loc[col, 'MS_mean'] = set1[col].mean()\n",
    "    pvalues.loc[col, 'HC_mean'] = set2[col].mean()\n",
    "    if do_mw(set1.fillna(0.0001)[col], set2.fillna(0.0001)[col])[1]<0.05:\n",
    "        t1d_ser = set1[col]\n",
    "        t1d_ser.name = 't1d'\n",
    "        control_ser = set2[col]\n",
    "        control_ser.name = 'control'\n",
    "        \n",
    "        \n",
    "pvalues = pvalues.dropna(subset = ['pvalue'])\n",
    "pvalues['MWp_fdr_HC_MS']=fdr(pvalues['pvalue'])\n",
    "\n",
    "pvalues.index.name = 'Bac'\n",
    "\n",
    "pvalues.reset_index().to_excel('/net/mraid08/export/jafar/Microbiome/Analyses/T1D/graphlan/my_files/DB//segata_s.xlsx')\n",
    "\n",
    "all_mbl = GutMBLoader()\n",
    "all_mb = all_mbl.get_data(df = 'segata_genus')\n",
    "t1d_adults\n",
    "all_mb = all_mb.df\n",
    "all_mb.head(3)\n",
    "set1 = all_mb[all_mb.index.isin(t1d_adults['SampleName'].values)]\n",
    "\n",
    "set2 = all_mb[all_mb.index.isin(control_d2_samples)]\n",
    "\n",
    "pvalues = pd.DataFrame(index = set1.columns, columns = ['pvalue', 'MWp_fdr_HC_MS', 'man_whitney_direction', 'MS_mean', 'HC_mean'])\n",
    "#pd.DataFrame(index = ibd_microbiome.columns, columns = ['pvalues', 'pvalues_fdr', 'pearson_corr'])\n",
    "#.MWp_fdr_HC_MS, Bac, MS_mean, HC_mean\n",
    "\n",
    "for col in set1:\n",
    "    if (set1[col].fillna(0.0001)[set1[col].fillna(0.0001)>0.0001].shape[0]+set2[col].fillna(0.0001)[set2[col].fillna(0.0001)>0.0001].shape[0])<15:\n",
    "        continue\n",
    "  #  if set2[col].fillna(0.0001)[set2[col].fillna(0.0001)>0.0001].shape[0]<10:\n",
    "  #      continue\n",
    "    pvalues.loc[col, 'pvalue'] = do_mw(set1.fillna(0.0001)[col], set2.fillna(0.0001)[col])[1]\n",
    "    pvalues.loc[col, 'man_whitney_direction'] = set1[col].mean()-set2[col].mean()\n",
    "    pvalues.loc[col, 'MS_mean'] = set1[col].mean()\n",
    "    pvalues.loc[col, 'HC_mean'] = set2[col].mean()\n",
    "    if do_mw(set1.fillna(0.0001)[col], set2.fillna(0.0001)[col])[1]<0.05:\n",
    "        t1d_ser = set1[col]\n",
    "        t1d_ser.name = 't1d'\n",
    "        control_ser = set2[col]\n",
    "        control_ser.name = 'control'\n",
    "        \n",
    "        \n",
    "pvalues = pvalues.dropna(subset = ['pvalue'])\n",
    "pvalues['MWp_fdr_HC_MS']=fdr(pvalues['pvalue'])\n",
    "pvalues.index.name = 'Bac'\n",
    "\n",
    "pvalues.reset_index().to_excel('/net/mraid08/export/jafar/Microbiome/Analyses/T1D/graphlan/my_files/DB//segata_g.xlsx')\n",
    "\n",
    "all_mbl = GutMBLoader()\n",
    "all_mb = all_mbl.get_data(df = 'segata_family')\n",
    "t1d_adults\n",
    "all_mb = all_mb.df\n",
    "all_mb.head(3)\n",
    "set1 = all_mb[all_mb.index.isin(t1d_adults['SampleName'].values)]\n",
    "\n",
    "set2 = all_mb[all_mb.index.isin(control_d2_samples)]\n",
    "\n",
    "pvalues = pd.DataFrame(index = set1.columns, columns = ['pvalue', 'MWp_fdr_HC_MS', 'man_whitney_direction', 'MS_mean', 'HC_mean'])\n",
    "#pd.DataFrame(index = ibd_microbiome.columns, columns = ['pvalues', 'pvalues_fdr', 'pearson_corr'])\n",
    "#.MWp_fdr_HC_MS, Bac, MS_mean, HC_mean\n",
    "\n",
    "for col in set1:\n",
    "    if (set1[col].fillna(0.0001)[set1[col].fillna(0.0001)>0.0001].shape[0]+set2[col].fillna(0.0001)[set2[col].fillna(0.0001)>0.0001].shape[0])<15:\n",
    "        continue\n",
    "  #  if set2[col].fillna(0.0001)[set2[col].fillna(0.0001)>0.0001].shape[0]<10:\n",
    "  #      continue\n",
    "    pvalues.loc[col, 'pvalue'] = do_mw(set1.fillna(0.0001)[col], set2.fillna(0.0001)[col])[1]\n",
    "    pvalues.loc[col, 'man_whitney_direction'] = set1[col].mean()-set2[col].mean()\n",
    "    pvalues.loc[col, 'MS_mean'] = set1[col].mean()\n",
    "    pvalues.loc[col, 'HC_mean'] = set2[col].mean()\n",
    "    if do_mw(set1.fillna(0.0001)[col], set2.fillna(0.0001)[col])[1]<0.05:\n",
    "        t1d_ser = set1[col]\n",
    "        t1d_ser.name = 't1d'\n",
    "        control_ser = set2[col]\n",
    "        control_ser.name = 'control'\n",
    "        \n",
    "        \n",
    "pvalues = pvalues.dropna(subset = ['pvalue'])\n",
    "pvalues['MWp_fdr_HC_MS']=fdr(pvalues['pvalue'])\n",
    "\n",
    "pvalues.index.name = 'Bac'\n",
    "\n",
    "pvalues.reset_index().to_excel('/net/mraid08/export/jafar/Microbiome/Analyses/T1D/graphlan/my_files/DB//segata_f.xlsx')"
   ]
  },
  {
   "cell_type": "code",
   "execution_count": null,
   "metadata": {},
   "outputs": [],
   "source": [
    "all_mb = all_mbl.get_data(df = 'segata_species', study_ids=[6,1000], min_col_present_frac=0.2)\n",
    "all_mb = all_mb.df\n",
    "all_mb.head(3)\n",
    "set1_species = all_mb[all_mb.index.isin(t2d_samples)]\n",
    "\n",
    "set2_species = all_mb[all_mb.index.isin(control_d2_samples)]\n",
    "\n",
    "all_mb = all_mbl.get_data(df = 'segata_genus', study_ids=[6,1000], min_col_present_frac=0.2)\n",
    "all_mb = all_mb.df\n",
    "all_mb.head(3)\n",
    "set1_genus = all_mb[all_mb.index.isin(t2d_samples)]\n",
    "\n",
    "set2_genus = all_mb[all_mb.index.isin(control_d2_samples)]\n",
    "all_mb = all_mbl.get_data(df = 'segata_family', study_ids=[6,1000], min_col_present_frac=0.2)\n",
    "all_mb = all_mb.df\n",
    "all_mb.head(3)\n",
    "set1_family = all_mb[all_mb.index.isin(t2d_samples)]\n",
    "\n",
    "set2_family = all_mb[all_mb.index.isin(control_d2_samples)]\n",
    "\n",
    "set1_all = set1_species.join(set1_genus).join(set1_family)\n",
    "set1_all['group'] = '111'\n",
    "set2_all = set2_species.join(set2_genus).join(set2_family)\n",
    "set2_all['group'] = '222'\n",
    "\n",
    "set_both_all = set2_all.append(set1_all)\n",
    "set_both_all = set_both_all.reset_index()\n",
    "del set_both_all['SampleName']\n",
    "\n",
    "set_both_all.T.to_csv('/net/mraid08/export/genie/LabData/Data/StudySpecificData/T1D//microbiome//X1_y_1_T_abund.csv', sep='\\t')\n",
    "\n",
    "\n"
   ]
  },
  {
   "cell_type": "code",
   "execution_count": null,
   "metadata": {},
   "outputs": [],
   "source": [
    "len(set(set1_all.index))"
   ]
  },
  {
   "cell_type": "code",
   "execution_count": null,
   "metadata": {},
   "outputs": [],
   "source": [
    "all_species_combined = set1_all.join(all_mbl.get_data(df = 'segata_family', groupby_reg='largest', study_ids=[6], min_col_present_frac=0.2).df_metadata['RegistrationCode']).set_index('RegistrationCode')"
   ]
  },
  {
   "cell_type": "code",
   "execution_count": null,
   "metadata": {},
   "outputs": [],
   "source": [
    "all_species_combined = all_species_combined[[col for col in all_species_combined.columns \n",
    "                                            if 'unknown' not in col and 'group' not in col]]\n",
    "\n",
    "all_species_combined = all_species_combined[all_species_combined.index.isin(reg_ids)]"
   ]
  },
  {
   "cell_type": "code",
   "execution_count": null,
   "metadata": {},
   "outputs": [],
   "source": [
    "all_species_combined_grouped = pd.DataFrame()\n",
    "for col_new in set([c.split('SGB')[0] for c in all_species_combined.columns]):\n",
    "    if col_new!='group':\n",
    "        all_species_combined_grouped[col_new[:-2]] = all_species_combined[[col for col in all_species_combined.columns if col_new in col]].sum(axis=1)\n",
    "all_species_combined_grouped"
   ]
  },
  {
   "cell_type": "code",
   "execution_count": null,
   "metadata": {},
   "outputs": [],
   "source": [
    "do_a_heatmap_and_corr_matrix(all_species_combined_grouped, md, 'associations_species_adults_spearman_combined')"
   ]
  },
  {
   "cell_type": "code",
   "execution_count": null,
   "metadata": {},
   "outputs": [],
   "source": [
    "set_both_all_known = set_both_all[[col for col in set_both_all.columns if 'unknown' not in col]]\n",
    "\n",
    "set_both_all_known.T.to_csv('/net/mraid08/export/genie/LabData/Data/StudySpecificData/T1D//microbiome//X1_y_1_T_abund_known.csv', sep='\\t')\n"
   ]
  },
  {
   "cell_type": "code",
   "execution_count": null,
   "metadata": {},
   "outputs": [],
   "source": [
    "set_grouped = pd.DataFrame()\n",
    "for col_new in set([c.split('SGB')[0] for c in set_both_all_known.columns]):\n",
    "    if col_new!='group':\n",
    "        set_grouped[col_new[:-2]] = set_both_all_known[[col for col in set_both_all_known.columns if col_new in col]].sum(axis=1)\n",
    "set_grouped['group'] =    set_both_all_known['group']   \n",
    "set_grouped.T.to_csv('/net/mraid08/export/genie/LabData/Data/StudySpecificData/T1D//microbiome//X1_y_1_T_abund_known_grouped.csv', sep='\\t')\n",
    "    "
   ]
  },
  {
   "cell_type": "code",
   "execution_count": null,
   "metadata": {},
   "outputs": [],
   "source": [
    "plt.rcParams['figure.figsize'] = [6, 4]\n",
    "all_mbl = GutMBLoader()\n",
    "all_mb = all_mbl.get_data(df = 'segata_species', study_ids=[1000,6], take_log=True, min_col_present_frac=0.1)\n",
    "all_mb = all_mb.df\n",
    "all_mb.head(3)\n",
    "set1 = all_mb[all_mb.index.isin(t2d_samples)]\n",
    "\n",
    "set2 = all_mb[all_mb.index.isin(control_d2_samples)]\n",
    "\n",
    "\n",
    "\n",
    "\n",
    "\n",
    "\n",
    "from sklearn.model_selection import StratifiedKFold\n",
    "cv = StratifiedKFold(n_splits=5, shuffle=True, random_state=104)\n",
    "from sklearn.ensemble import GradientBoostingClassifier\n",
    "from sklearn.metrics import roc_curve, auc\n",
    "from scipy import interp\n",
    "import numpy as np\n",
    "\n",
    "set1['is t1d'] = 1\n",
    "\n",
    "set2['is t1d'] = 0\n",
    "\n",
    "X = set1.append(set2).fillna(-4)\n",
    "\n",
    "y = X.reset_index()['is t1d']\n",
    "\n",
    "#y = y.\n",
    "\n",
    "del X['is t1d']\n",
    "\n",
    "#class_weight = dict({0:1.9, 1:35})\n",
    "#classifier = RandomForestClassifier()\n",
    "classifier = GradientBoostingClassifier(n_estimators = 2000,learning_rate=.01,max_depth=6,max_features=1,min_samples_leaf=10)\n",
    "#classifier = svm.SVC(kernel='linear', probability=True,\n",
    "#                     random_state=random_state)\n",
    "#\n",
    "tprs = []\n",
    "aucs = []\n",
    "mean_fpr = np.linspace(0, 1, 100)\n",
    "y_test_all = []\n",
    "y_predict_all = []\n",
    "y_pred = []\n",
    "y_true = []\n",
    "trhresh_all = []\n",
    "\n",
    "i = 0\n",
    "for i, (train, test) in enumerate(cv.split(X, y)):\n",
    "    fitted = classifier.fit(X.iloc[train], y.iloc[train])\n",
    "    probas_ = fitted.predict_proba(X.iloc[test])\n",
    "   # y_pred += [fitted.predict(X.iloc[test])]\n",
    "   # y_true +=[y.iloc[test]]\n",
    "  #  y_predict_all+=[probas_[:, 1]]\n",
    "  #  y_test_all+=[y.iloc[test]]\n",
    "    fpr, tpr, thresholds = roc_curve(y.iloc[test], probas_[:, 1])\n",
    "    trhresh_all+=[thresholds]\n",
    "    tprs.append(interp(mean_fpr, fpr, tpr))\n",
    "    tprs[-1][0] = 0.0\n",
    "    roc_auc = auc(fpr, tpr)\n",
    "    aucs.append(roc_auc)\n",
    "    plt.plot(fpr, tpr, lw=1, alpha=0.3)\n",
    "           #  label='ROC fold %d (AUC = %0.2f)' % (i, roc_auc))\n",
    "\n",
    "    i += 1\n",
    "plt.plot([0, 1], [0, 1], linestyle='--', lw=2, color='r',\n",
    "         label='Chance', alpha=.8)\n",
    "\n",
    "mean_tpr = np.mean(tprs, axis=0)\n",
    "mean_tpr[-1] = 1.0\n",
    "mean_auc = auc(mean_fpr, mean_tpr)\n",
    "std_auc = np.std(aucs)\n",
    "plt.plot(mean_fpr, mean_tpr, color='b',\n",
    "         label=r'Mean ROC (AUC = %0.2f $\\pm$ %0.2f)' % (mean_auc, std_auc),\n",
    "         lw=2, alpha=.8)\n",
    "\n",
    "std_tpr = np.std(tprs, axis=0)\n",
    "tprs_upper = np.minimum(mean_tpr + std_tpr, 1)\n",
    "tprs_lower = np.maximum(mean_tpr - std_tpr, 0)\n",
    "plt.fill_between(mean_fpr, tprs_lower, tprs_upper, color='grey', alpha=.2,\n",
    "                 label=r'$\\pm$ 1 std. dev.')\n",
    "\n",
    "plt.xlim([-0.05, 1.05])\n",
    "plt.ylim([-0.05, 1.05])\n",
    "plt.xlabel('False Positive Rate')\n",
    "plt.ylabel('True Positive Rate')\n",
    "plt.title('Prediction of T1D from microbiome')\n",
    "plt.legend(loc=\"lower right\")\n",
    "plt.savefig('/net/mraid08/export/genie/LabData/Data/StudySpecificData/T1D//microbiome//predictor_t1d_hc.jpg', dpi=800)"
   ]
  },
  {
   "cell_type": "code",
   "execution_count": null,
   "metadata": {},
   "outputs": [],
   "source": [
    "from sklearn.preprocessing import StandardScaler\n",
    "import seaborn as sns\n",
    "set1['is t1d'] = 'T1DM'\n",
    "\n",
    "set2['is t1d'] = 'Healthy Controls'\n",
    "\n",
    "X = set1.append(set2).fillna(-4)\n",
    "\n",
    "y = X.reset_index()['is t1d']\n",
    "\n",
    "#y = y.\n",
    "\n",
    "del X['is t1d']\n",
    "\n",
    "X_scaled = StandardScaler().fit_transform(X)\n",
    "X_scaled[:5]\n",
    "features = X_scaled.T\n",
    "cov_matrix = np.cov(features)\n",
    "cov_matrix[:5]\n",
    "values, vectors = np.linalg.eig(cov_matrix)\n",
    "values[:5]\n",
    "explained_variances = []\n",
    "for i in range(len(values)):\n",
    "    explained_variances.append(values[i] / np.sum(values))\n",
    "    \n",
    "    \n",
    "projected_1 = X_scaled.dot(vectors.T[0])\n",
    "projected_2 = X_scaled.dot(vectors.T[1])\n",
    "res = pd.DataFrame(projected_1, columns=['PC1, 7.7%'])\n",
    "res['PC2, 4.4 %'] = projected_2\n",
    "res['group'] = y\n",
    "res.head()\n",
    "\n",
    "\n",
    "plt.figure(figsize=(12, 10))\n",
    "sns.scatterplot(res['PC1, 7.7%'], res['PC2, 4.4 %'], hue=res['group'], s=100)"
   ]
  },
  {
   "cell_type": "code",
   "execution_count": null,
   "metadata": {},
   "outputs": [],
   "source": [
    "explained_variances\n",
    "#*100"
   ]
  },
  {
   "cell_type": "code",
   "execution_count": null,
   "metadata": {},
   "outputs": [],
   "source": [
    "import pandas as pd\n",
    "import numpy as np\n",
    "from sklearn import manifold\n",
    "import scipy.stats\n",
    "import matplotlib.pyplot as plt\n",
    "import itertools\n",
    "from scipy.spatial import distance\n",
    "from scipy.spatial.distance import braycurtis\n",
    "\n",
    "def BrayCurtis(X):\n",
    "\n",
    "    X = np.array(X)\n",
    "    n_samples = X.shape[0] \n",
    "    n_distance = int(n_samples * (n_samples - 1) / 2)\n",
    "    d_array = np.zeros((n_distance))\n",
    "    for i, (idx1, idx2) in enumerate(itertools.combinations(range(n_samples),2)):\n",
    "        d_array[i] = braycurtis(X[idx1], X[idx2])    \n",
    "    return squareform(d_array)\n",
    "\n",
    "def executePCoA(data, distance_metric='BrayCurtis', drawBiplot=False, n_arrows=False, groupfile=False):    \n",
    "    matrix = data.values\n",
    "    n_features, n_samples = matrix.shape\n",
    "    print(n_features,'features, ',n_samples,'samples')\n",
    "    \n",
    "\n",
    "    if distance_metric == 'BrayCurtis':\n",
    "        distance_matrix = distance.squareform(distance.pdist(matrix.T, metric=\"braycurtis\"))\n",
    "\n",
    " \n",
    "  # execute PCoA\n",
    "    mds = manifold.MDS(n_components=2, max_iter=3000, dissimilarity=\"precomputed\", n_jobs=1)\n",
    "    positions = mds.fit(distance_matrix).embedding_\n",
    "    positions_with_sampleIndex = pd.DataFrame(positions, index=data.columns)\n",
    "    \n",
    "    # General settings of the canvas\n",
    "    fig = plt.figure(figsize=(12,12))\n",
    "    ax = fig.gca()\n",
    "    ax.spines['right'].set_color('none')\n",
    "    ax.spines['top'].set_color('none')\n",
    "    ax.spines['bottom'].set_position(('data',0))\n",
    "    ax.spines['left'].set_position(('data',0))\n",
    "    ax.xaxis.set_ticks_position('bottom')\n",
    "    ax.yaxis.set_ticks_position('left')\n",
    "#    ax.set_xlim(-0.02,0.02)\n",
    "#    ax.set_ylim(-0.02,0.02)\n",
    "    \n",
    "  \n",
    "    # draw plots using colors if samples are binned into groups\n",
    "    if True:\n",
    "        group_names = []\n",
    "        group2sample = {}\n",
    "        df = groupfile\n",
    "        for sample in df.index:\n",
    "            # Use the value of second column (1) as a grouping category.\n",
    "            group = df.loc[sample]\n",
    "            if group in group2sample:\n",
    "                group2sample[group].append(sample)\n",
    "            else:\n",
    "                group2sample[group] = [sample]\n",
    "                group_names.append(group)\n",
    "        colors = itertools.cycle(['r','g','b','c','m','y','k'])\n",
    "        markers = itertools.cycle(['o','^','s','*','x'])\n",
    "        for i,current_group in enumerate(group_names):\n",
    "            if len(group2sample[current_group]) == 0:\n",
    "                continue\n",
    "            ax.scatter(positions_with_sampleIndex.loc[group2sample[current_group],0],\n",
    "                       positions_with_sampleIndex.loc[group2sample[current_group],1],\n",
    "                       s=100, marker=next(markers), color=next(colors), label='%s'%current_group)\n",
    "        plt.legend(bbox_to_anchor=(0., 1.01, 1., 1.01), loc=3, ncol=6, mode=\"expand\", borderaxespad=0.)\n",
    "    else:\n",
    "        for i,sample_name in enumerate(data.columns):\n",
    "            ax.annotate(sample_name, xy=(positions[i,0],positions[i,1]), xytext=(5,5), textcoords='offset points', color='k', fontsize=16)\n",
    "        ax.scatter(positions[:,0], positions[:,1], c='k', s=50)\n",
    "    \n",
    "    x_label = 'PCo1'\n",
    "    y_label = 'PCo2'\n",
    " #   ax.annotate(x_label, xy=(0.0, -1.0), xytext=(0.0,-40.0), textcoords='offset points', ha='center', color='k', fontsize=18)\n",
    "#    ax.annotate(y_label, xy=(-1.0, 0.0), xytext=(-40.0,0.0), textcoords='offset points', ha='center', color='k', fontsize=18, rotation=90)\n",
    "    plt.show()\n",
    "\n",
    "set1['is t1d'] = 'T1DM'\n",
    "\n",
    "set2['is t1d'] = 'Healthy Controls'\n",
    "\n",
    "X = set1.append(set2).fillna(0.0001)\n",
    "\n",
    "y = X['is t1d']\n",
    "\n",
    "#y = y.\n",
    "\n",
    "del X['is t1d']\n",
    "\n",
    "\n",
    "X_t = X[[col for col in X.columns if X[col].quantile(0.7)>0.0002]].T.reset_index().fillna(0.0001)\n",
    "\n",
    "X_t['sp'] = X_t['index'].apply(lambda x: x.split('|fSGB')[0])\n",
    "\n",
    "del X_t['index']\n",
    "\n",
    "X_t = X_t.groupby(['sp']).sum()\n",
    "#executePCoA(X.apply(lambda x: np.log10(x)).T, groupfile = y)\n",
    "\n",
    "executePCoA(X_t, groupfile = y)"
   ]
  },
  {
   "cell_type": "code",
   "execution_count": null,
   "metadata": {},
   "outputs": [],
   "source": [
    "X[[col for col in X.columns if X[col].quantile(0.7)>0.0002]].shape"
   ]
  },
  {
   "cell_type": "code",
   "execution_count": null,
   "metadata": {},
   "outputs": [],
   "source": [
    "X_t = X[[col for col in X.columns if X[col].quantile(0.7)>0.0002]].T.reset_index().fillna(0.0001)\n",
    "\n",
    "\n",
    "\n",
    "\n",
    "X_t['sp'] = X_t['index'].apply(lambda x: x.split('|fSGB')[0])\n",
    "\n",
    "del X_t['index']\n",
    "\n",
    "X_t = X_t.groupby(['sp']).sum()\n",
    "X_t\n",
    "#\n",
    "\n",
    "#_t[[col for col in X_t.columns if X_t[col].mean()>0.005]]"
   ]
  },
  {
   "cell_type": "code",
   "execution_count": null,
   "metadata": {},
   "outputs": [],
   "source": [
    "X"
   ]
  },
  {
   "cell_type": "code",
   "execution_count": null,
   "metadata": {},
   "outputs": [],
   "source": [
    "from sklearn.manifold import TSNE\n",
    "import matplotlib.pyplot as plt\n",
    "import matplotlib\n",
    "tsne =TSNE(n_components=2, init='random', perplexity = 100, random_state=0)\n",
    "\n",
    "\n",
    "X_tsne = tsne.fit_transform(X)\n",
    "\n",
    "vis_x = X_tsne[:, 0]\n",
    "vis_y = X_tsne[:, 1]\n",
    "\n",
    "res['Y'] = y\n",
    "res.head()\n",
    "res['tSNE1'] = vis_x\n",
    "res['tSNE2'] = vis_y\n",
    "\n",
    "plt.figure(figsize=(12, 10))\n",
    "sns.scatterplot(res['tSNE1'], res['tSNE2'], hue=res['group'], s=100)"
   ]
  },
  {
   "cell_type": "code",
   "execution_count": null,
   "metadata": {},
   "outputs": [],
   "source": [
    "from DataLoaders import DietLoggingLoader\n",
    "dll = DietLoggingLoader.DietLoggingLoader()\n",
    "\n",
    "dlld = dll.get_data(study_ids=[1])\n",
    "\n",
    "\n",
    "log = dll.add_nutrients(dlld.df, nutrient_list=['energy_kcal',\n",
    " 'carbohydrate_g',\n",
    " 'protein_g',\n",
    " 'totallipid_g',\n",
    " 'totaldietaryfiber_g',\n",
    " 'totalsaturatedfattyacids_g']).reset_index()\n",
    "\n",
    "log = log.groupby('RegistrationCode')[['energy_kcal',\n",
    " 'carbohydrate_g',\n",
    " 'protein_g',\n",
    " 'totallipid_g',]].sum()\n",
    "\n",
    "log['carb_perc'] = log['carbohydrate_g']/log['energy_kcal']*400\n",
    "log['proten_perc'] = log['protein_g']/log['energy_kcal']*400\n",
    "log['totallipid_g'] = log['totallipid_g']/log['energy_kcal']*900\n",
    "\n",
    "log[['carb_perc', 'proten_perc', 'totallipid_g']].describe()"
   ]
  },
  {
   "cell_type": "code",
   "execution_count": null,
   "metadata": {},
   "outputs": [],
   "source": [
    "def bacteria_name(x):\n",
    "    if x.split('|')[6].replace('s__', '')!='unknown':\n",
    "        return x.split('|')[6].replace('s__', '')+'_'+ x.split('|')[9]\n",
    "    elif x.split('|')[5].replace('g__', '')!='unknown':\n",
    "        return x.split('|')[5].replace('g__', '')+' '+x.split('|')[9]\n",
    "    elif x.split('|')[4].replace('f__', '')!='unknown':\n",
    "        return x.split('|')[4].replace('f__', '')+' '+x.split('|')[9]\n",
    "    else:\n",
    "        return x.split('|')[9]\n",
    "    \n",
    "    \n",
    "X = X.rename(columns = {col:bacteria_name(col).replace('unclassified', '') for col in X.columns})"
   ]
  },
  {
   "cell_type": "code",
   "execution_count": null,
   "metadata": {},
   "outputs": [],
   "source": [
    "import shap\n",
    "import matplotlib.pyplot as plt\n",
    "plt.rcParams['figure.figsize'] = [10, 8]\n",
    "\n",
    "fitted = classifier.fit(X, y)\n",
    "\n",
    "\n",
    "\n",
    "shap_values = shap.TreeExplainer(fitted)\n",
    "\n",
    "import matplotlib\n",
    "font = {'family' : 'normal',\n",
    "        'weight' : 'bold',\n",
    "        'size'   : 12}\n",
    "\n",
    "matplotlib.rc('font', **font)\n",
    "\n",
    "shap_values = shap_values.shap_values(X)\n",
    "fig = shap.summary_plot(shap_values, X, max_display=15, plot_type=\"layered_violin\", color='coolwarm', show=False)\n",
    "\n",
    "\n",
    "plt.savefig('/net/mraid08/export/genie/LabData/Data/StudySpecificData/T1D//microbiome//predictor_t1d_hc_shap.jpg', dpi=800,bbox_inches='tight')\n",
    "#p"
   ]
  },
  {
   "cell_type": "code",
   "execution_count": null,
   "metadata": {},
   "outputs": [],
   "source": [
    "set_both_all_known[[col for col in set_both_all_known if 'no_consensus' not in col]]"
   ]
  },
  {
   "cell_type": "code",
   "execution_count": null,
   "metadata": {},
   "outputs": [],
   "source": [
    "set_grouped = pd.DataFrame()\n",
    "set_both_all_known = set_both_all_known[[col for col in set_both_all_known if 'no_consensus' not in col]]\n",
    "for col_new in set([c.split('SGB')[0] for c in set_both_all_known.columns]):\n",
    "    if col_new!='group':\n",
    "        set_grouped[col_new[:-2]] = set_both_all_known[[col for col in set_both_all_known.columns if col_new in col]].sum(axis=1)\n",
    "set_grouped['group'] =    set_both_all_known['group']   \n",
    "set_grouped.T.to_csv('/net/mraid08/export/genie/LabData/Data/StudySpecificData/T1D//microbiome//X1_y_1_T_abund_known_grouped.csv', sep='\\t')\n",
    "    "
   ]
  },
  {
   "cell_type": "code",
   "execution_count": null,
   "metadata": {},
   "outputs": [],
   "source": [
    "y.name = 'is_t1d'\n",
    "X.reset_index().join(y).T.to_csv('/net/mraid08/export/genie/LabData/Data/StudySpecificData/T1D//microbiome//X_y_1_T.csv', sep='\\t')"
   ]
  },
  {
   "cell_type": "code",
   "execution_count": null,
   "metadata": {},
   "outputs": [],
   "source": [
    "set1['is t1d'] = 1\n",
    "\n",
    "set2['is t1d'] = 0\n",
    "\n",
    "X = set1.append(set2).fillna(-4)\n",
    "X = X[[col for col in X.columns if 'unknown' not in col]]\n",
    "y = X.reset_index()['is t1d']\n",
    "\n",
    "#y = y.\n",
    "\n",
    "del X['is t1d']\n",
    "y1  =y.apply(lambda x: 'T1D' if x==1 else 'HC')\n",
    "X1 = X.reset_index()\n",
    "del X1['SampleName']\n",
    "y1.name = 'is_t1d'\n",
    "X1.join(y1).T.to_csv('/net/mraid08/export/genie/LabData/Data/StudySpecificData/T1D//microbiome//X1_y_1_T_known.csv', sep='\\t')"
   ]
  },
  {
   "cell_type": "code",
   "execution_count": null,
   "metadata": {},
   "outputs": [],
   "source": [
    "import matplotlib\n",
    "font = {'family' : 'normal',\n",
    "        'weight' : 'bold',\n",
    "        'size'   : 12}\n",
    "\n",
    "matplotlib.rc('font', **font)\n",
    "\n",
    "#shap_values = shap_values.shap_values(X)\n",
    "fig = shap.summary_plot(shap_values, X, max_display=15, plot_type=\"layered_violin\", color='coolwarm', show=False)\n",
    "\n",
    "\n",
    "plt.savefig('/net/mraid08/export/genie/LabData/Data/StudySpecificData/T1D//microbiome//predictor_t1d_hc_shap.jpg', dpi=800,bbox_inches='tight')\n",
    "#plt.savefig('/net/mraid08/export/genie/LabData/Data/StudySpecificData/T1D//microbiome//predictor_t1d_hc_shap.jpg', dpi=800)"
   ]
  },
  {
   "cell_type": "code",
   "execution_count": null,
   "metadata": {},
   "outputs": [],
   "source": [
    "butirate_procucing = ['k__Bacteria|p__Firmicutes|c__Clostridia|o__Clostridiales|f__Ruminococcaceae|g__Faecalibacterium|s__Faecalibacterium_prausnitzii|fSGB__3058|gSGB__9740|sSGB__15316',\n",
    " 'k__Bacteria|p__Firmicutes|c__Clostridia|o__Clostridiales|f__Ruminococcaceae|g__Faecalibacterium|s__Faecalibacterium_prausnitzii|fSGB__3058|gSGB__9740|sSGB__15318',\n",
    " 'k__Bacteria|p__Firmicutes|c__Clostridia|o__Clostridiales|f__Ruminococcaceae|g__Faecalibacterium|s__Faecalibacterium_prausnitzii|fSGB__3058|gSGB__9740|sSGB__15322',\n",
    " 'k__Bacteria|p__Firmicutes|c__Clostridia|o__Clostridiales|f__Ruminococcaceae|g__Faecalibacterium|s__Faecalibacterium_prausnitzii|fSGB__3058|gSGB__9740|sSGB__15323',\n",
    " 'k__Bacteria|p__Firmicutes|c__Clostridia|o__Clostridiales|f__Ruminococcaceae|g__Faecalibacterium|s__Faecalibacterium_prausnitzii|fSGB__3058|gSGB__9741|sSGB__15332',\n",
    " 'k__Bacteria|p__Firmicutes|c__Clostridia|o__Clostridiales|f__Ruminococcaceae|g__Faecalibacterium|s__Faecalibacterium_prausnitzii|fSGB__3058|gSGB__9741|sSGB__15333',\n",
    " 'k__Bacteria|p__Firmicutes|c__Clostridia|o__Clostridiales|f__Ruminococcaceae|g__Faecalibacterium|s__Faecalibacterium_prausnitzii|fSGB__3058|gSGB__9741|sSGB__15339',\n",
    " 'k__Bacteria|p__Firmicutes|c__Clostridia|o__Clostridiales|f__Ruminococcaceae|g__Faecalibacterium|s__Faecalibacterium_prausnitzii|fSGB__3058|gSGB__9741|sSGB__15342',\n",
    " 'k__Bacteria|p__Firmicutes|c__Clostridia|o__Clostridiales|f__Ruminococcaceae|g__Faecalibacterium|s__Faecalibacterium_prausnitzii|fSGB__673|gSGB__1693|sSGB__2326',\n",
    " 'k__Bacteria|p__Firmicutes|c__Clostridia|o__Clostridiales|f__Lachnospiraceae|g__Butyrivibrio|s__Butyrivibrio_crossotus|fSGB__1475|gSGB__3732|sSGB__5065',\n",
    " 'k__Bacteria|p__Firmicutes|c__Clostridia|o__Clostridiales|f__Lachnospiraceae|g__Coprococcus|s__Coprococcus_eutactus|fSGB__1480|gSGB__3759|sSGB__5117',\n",
    " 'k__Bacteria|p__Firmicutes|c__Clostridia|o__Clostridiales|f__Eubacteriaceae|g__Eubacterium|s__Eubacterium_ventriosum|fSGB__1472|gSGB__3721|sSGB__5045',\n",
    " 'k__Bacteria|p__Firmicutes|c__Clostridia|o__Clostridiales|f__Lachnospiraceae|g__Anaerostipes|s__Anaerostipes_hadrus|fSGB__1413|gSGB__3421|sSGB__4540',\n",
    " 'k__Bacteria|p__Firmicutes|c__Clostridia|o__Clostridiales|f__Lachnospiraceae|g__Anaerostipes|s__Anaerostipes_hadrus|fSGB__1413|gSGB__3421|sSGB__4547',\n",
    " 'k__Bacteria|p__Firmicutes|c__Clostridia|o__Clostridiales|f__Oscillospiraceae|g__Oscillibacter|s__Oscillibacter_sp|fSGB__3056|gSGB__9624|sSGB__15078',\n",
    " 'k__Bacteria|p__Firmicutes|c__Clostridia|o__Clostridiales|f__Oscillospiraceae|g__Oscillibacter|s__Oscillibacter_sp_CAG_241|fSGB__3056|gSGB__9633|sSGB__15090',\n",
    " 'k__Bacteria|p__Firmicutes|c__Clostridia|o__Clostridiales|f__Lachnospiraceae|g__Roseburia|s__Roseburia_faecis|fSGB__1454|gSGB__3634|sSGB__4925',\n",
    " 'k__Bacteria|p__Firmicutes|c__Clostridia|o__Clostridiales|f__Lachnospiraceae|g__Coprococcus|s__unknown|fSGB__1428|gSGB__3495|sSGB__4669',\n",
    " 'k__Bacteria|p__Firmicutes|c__Clostridia|o__Clostridiales|f__Lachnospiraceae|g__Coprococcus|s__Coprococcus_catus|fSGB__1428|gSGB__3495|sSGB__4670',\n",
    " 'k__Bacteria|p__Firmicutes|c__Clostridia|o__Clostridiales|f__Clostridiaceae|g__unknown|s__unknown|fSGB__1445|gSGB__3570|sSGB__4777',\n",
    " 'k__Bacteria|p__Firmicutes|c__Clostridia|o__Clostridiales|f__Lachnospiraceae|g__Lachnospiraceae_unclassified|s__Eubacterium_rectale|fSGB__1454|gSGB__3638|sSGB__4933',\n",
    " 'k__Bacteria|p__Firmicutes|c__Clostridia|o__Clostridiales|f__Lachnospiraceae|g__Roseburia|s__Roseburia_inulinivorans|fSGB__1454|gSGB__3642|sSGB__4940',\n",
    " 'k__Bacteria|p__Firmicutes|c__Clostridia|o__Clostridiales|f__Eubacteriaceae|g__Eubacterium|s__Eubacterium_hallii|fSGB__1413|gSGB__3419|sSGB__4532',\n",
    " 'k__Bacteria|p__Firmicutes|c__Clostridia|o__Clostridiales|f__Eubacteriaceae|g__Eubacterium|s__Eubacterium_hallii|fSGB__1413|gSGB__3419|sSGB__4537',\n",
    " 'k__Bacteria|p__Firmicutes|c__Clostridia|o__Clostridiales|f__Lachnospiraceae|g__Roseburia|s__Roseburia_intestinalis|fSGB__1454|gSGB__3644|sSGB__4951']\n",
    "\n",
    "\n",
    "roseburia = ['k__Bacteria|p__Firmicutes|c__Clostridia|o__Clostridiales|f__Lachnospiraceae|g__Roseburia|s__Roseburia_sp_CAG_100|fSGB__1451|gSGB__3612|sSGB__4882',\n",
    "'k__Bacteria|p__Firmicutes|c__Clostridia|o__Clostridiales|f__Lachnospiraceae|g__Roseburia|s__Roseburia_sp_CAG_182|fSGB__1454|gSGB__3646|sSGB__4953',\n",
    "'k__Bacteria|p__Firmicutes|c__Clostridia|o__Clostridiales|f__Lachnospiraceae|g__Roseburia|s__Roseburia_sp_CAG_197|fSGB__1454|gSGB__3633|sSGB__4922',\n",
    "'k__Bacteria|p__Firmicutes|c__Clostridia|o__Clostridiales|f__Lachnospiraceae|g__Roseburia|s__Roseburia_sp_CAG_303|fSGB__1424|gSGB__3490|sSGB__4664',\n",
    "'k__Bacteria|p__Firmicutes|c__Clostridia|o__Clostridiales|f__Lachnospiraceae|g__Roseburia|s__Roseburia_sp_CAG_380|fSGB__1421|gSGB__3484|sSGB__4654',\n",
    "'k__Bacteria|p__Firmicutes|c__Clostridia|o__Clostridiales|f__Lachnospiraceae|g__Roseburia|s__Roseburia_sp_CAG_471|fSGB__1449|gSGB__3604|sSGB__4867',\n",
    "'k__Bacteria|p__Firmicutes|c__Clostridia|o__Clostridiales|f__Lachnospiraceae|g__Roseburia|s__Roseburia_sp|fSGB__1454|gSGB__3641|sSGB__4938']\n",
    "\n",
    "\n",
    "faecalibacterium = ['k__Bacteria|p__Firmicutes|c__Clostridia|o__Clostridiales|f__Ruminococcaceae|g__Faecalibacterium|s__Faecalibacterium_prausnitzii|fSGB__3058|gSGB__9740|sSGB__15316',\n",
    "'k__Bacteria|p__Firmicutes|c__Clostridia|o__Clostridiales|f__Ruminococcaceae|g__Faecalibacterium|s__Faecalibacterium_prausnitzii|fSGB__3058|gSGB__9740|sSGB__15318',\n",
    "'k__Bacteria|p__Firmicutes|c__Clostridia|o__Clostridiales|f__Ruminococcaceae|g__Faecalibacterium|s__Faecalibacterium_prausnitzii|fSGB__3058|gSGB__9740|sSGB__15322',\n",
    "'k__Bacteria|p__Firmicutes|c__Clostridia|o__Clostridiales|f__Ruminococcaceae|g__Faecalibacterium|s__Faecalibacterium_prausnitzii|fSGB__3058|gSGB__9740|sSGB__15323',\n",
    "'k__Bacteria|p__Firmicutes|c__Clostridia|o__Clostridiales|f__Ruminococcaceae|g__Faecalibacterium|s__Faecalibacterium_prausnitzii|fSGB__3058|gSGB__9741|sSGB__15332',\n",
    "'k__Bacteria|p__Firmicutes|c__Clostridia|o__Clostridiales|f__Ruminococcaceae|g__Faecalibacterium|s__Faecalibacterium_prausnitzii|fSGB__3058|gSGB__9741|sSGB__15333',\n",
    "'k__Bacteria|p__Firmicutes|c__Clostridia|o__Clostridiales|f__Ruminococcaceae|g__Faecalibacterium|s__Faecalibacterium_prausnitzii|fSGB__3058|gSGB__9741|sSGB__15339',\n",
    "'k__Bacteria|p__Firmicutes|c__Clostridia|o__Clostridiales|f__Ruminococcaceae|g__Faecalibacterium|s__Faecalibacterium_prausnitzii|fSGB__3058|gSGB__9741|sSGB__15342',\n",
    "'k__Bacteria|p__Firmicutes|c__Clostridia|o__Clostridiales|f__Ruminococcaceae|g__Faecalibacterium|s__Faecalibacterium_prausnitzii|fSGB__673|gSGB__1693|sSGB__2326']\n",
    "\n",
    "\n",
    "eubacterium = ['k__Bacteria|p__Firmicutes|c__Clostridia|o__Clostridiales|f__Eubacteriaceae|g__Eubacterium|s__Eubacterium_sp_An11|fSGB__1432|gSGB__3505|sSGB__4681',\n",
    "'k__Bacteria|p__Firmicutes|c__Clostridia|o__Clostridiales|f__Eubacteriaceae|g__Eubacterium|s__Eubacterium_sp_CAG_115|fSGB__1325|gSGB__3175|sSGB__4191',\n",
    "'k__Bacteria|p__Firmicutes|c__Clostridia|o__Clostridiales|f__Eubacteriaceae|g__Eubacterium|s__Eubacterium_sp_CAG_156|fSGB__1472|gSGB__3720|sSGB__5043',\n",
    "'k__Bacteria|p__Firmicutes|c__Clostridia|o__Clostridiales|f__Eubacteriaceae|g__Eubacterium|s__Eubacterium_sp_CAG_161|fSGB__1472|gSGB__3719|sSGB__5042',\n",
    "'k__Bacteria|p__Firmicutes|c__Clostridia|o__Clostridiales|f__Eubacteriaceae|g__Eubacterium|s__Eubacterium_sp_CAG_180|fSGB__1349|gSGB__3293|sSGB__4348',\n",
    "'k__Bacteria|p__Firmicutes|c__Clostridia|o__Clostridiales|f__Eubacteriaceae|g__Eubacterium|s__Eubacterium_sp_CAG_192|fSGB__1472|gSGB__3723|sSGB__5051',\n",
    "'k__Bacteria|p__Firmicutes|c__Clostridia|o__Clostridiales|f__Eubacteriaceae|g__Eubacterium|s__Eubacterium_sp_CAG_202|fSGB__1336|gSGB__3244|sSGB__4290',\n",
    "'k__Bacteria|p__Firmicutes|c__Clostridia|o__Clostridiales|f__Eubacteriaceae|g__Eubacterium|s__Eubacterium_sp_CAG_248|fSGB__1476|gSGB__3740|sSGB__5077',\n",
    "'k__Bacteria|p__Firmicutes|c__Clostridia|o__Clostridiales|f__Eubacteriaceae|g__Eubacterium|s__Eubacterium_sp_CAG_251|fSGB__1342|gSGB__3277|sSGB__4327',\n",
    "'k__Bacteria|p__Firmicutes|c__Clostridia|o__Clostridiales|f__Eubacteriaceae|g__Eubacterium|s__Eubacterium_sp_CAG_252|fSGB__1476|gSGB__3740|sSGB__5076',\n",
    "'k__Bacteria|p__Firmicutes|c__Clostridia|o__Clostridiales|f__Eubacteriaceae|g__Eubacterium|s__Eubacterium_sp_CAG_274|fSGB__1380|gSGB__3363|sSGB__4447',\n",
    "'k__Bacteria|p__Firmicutes|c__Clostridia|o__Clostridiales|f__Eubacteriaceae|g__Eubacterium|s__Eubacterium_sp_CAG_38|fSGB__1476|gSGB__3746|sSGB__5089',\n",
    "'k__Bacteria|p__Firmicutes|c__Clostridia|o__Clostridiales|f__Eubacteriaceae|g__Eubacterium|s__Eubacterium_sp_CAG_581|fSGB__1336|gSGB__3235|sSGB__4272',\n",
    "'k__Bacteria|p__Firmicutes|c__Clostridia|o__Clostridiales|f__Eubacteriaceae|g__Eubacterium|s__Eubacterium_sp_CAG_603|fSGB__1472|gSGB__3728|sSGB__5058',\n",
    "'k__Bacteria|p__Firmicutes|c__Clostridia|o__Clostridiales|f__Eubacteriaceae|g__Eubacterium|s__Eubacterium_sp_CAG_786|fSGB__1325|gSGB__3176|sSGB__4193',\n",
    "'k__Bacteria|p__Firmicutes|c__Clostridia|o__Clostridiales|f__Eubacteriaceae|g__Eubacterium|s__Eubacterium_sp_CAG_841|fSGB__2947|gSGB__9285|sSGB__14238',\n",
    "'k__Bacteria|p__Firmicutes|c__Clostridia|o__Clostridiales|f__Eubacteriaceae|g__Eubacterium|s__Eubacterium_sp_CAG_86|fSGB__1476|gSGB__3744|sSGB__5087',\n",
    "'k__Bacteria|p__Firmicutes|c__Clostridia|o__Clostridiales|f__Eubacteriaceae|g__Eubacterium|s__Eubacterium_ventriosum|fSGB__1472|gSGB__3721|sSGB__5045']\n",
    "\n",
    "alipastes = ['k__Bacteria|p__Bacteroidetes|c__Bacteroidia|o__Bacteroidales|f__Rikenellaceae|g__Alistipes|s__Alistipes_sp_An31A|fSGB__673|gSGB__1677|sSGB__2304',\n",
    "'k__Bacteria|p__Bacteroidetes|c__Bacteroidia|o__Bacteroidales|f__Rikenellaceae|g__Alistipes|s__Alistipes_sp_An66|fSGB__673|gSGB__1678|sSGB__2306',\n",
    "'k__Bacteria|p__Bacteroidetes|c__Bacteroidia|o__Bacteroidales|f__Rikenellaceae|g__Alistipes|s__Alistipes_sp_CAG_268|fSGB__673|gSGB__1681|sSGB__2313',\n",
    "'k__Bacteria|p__Bacteroidetes|c__Bacteroidia|o__Bacteroidales|f__Rikenellaceae|g__Alistipes|s__Alistipes_sp_CAG_435|fSGB__658|gSGB__1627|sSGB__2230',\n",
    "'k__Bacteria|p__Bacteroidetes|c__Bacteroidia|o__Bacteroidales|f__Rikenellaceae|g__Alistipes|s__Alistipes_sp_CAG_514|fSGB__658|gSGB__1627|sSGB__2227',\n",
    "'k__Bacteria|p__Bacteroidetes|c__Bacteroidia|o__Bacteroidales|f__Rikenellaceae|g__Alistipes|s__Alistipes_sp_CHKCI003|fSGB__673|gSGB__1674|sSGB__2292']\n",
    "\n",
    "\n",
    "akkermania = ['k__Bacteria|p__Verrucomicrobia|c__Verrucomicrobiae|o__Verrucomicrobiales|f__Akkermansiaceae|g__Akkermansia|s__Akkermansia_muciniphila|fSGB__2382|gSGB__6531|sSGB__9226', 'k__Bacteria|p__Verrucomicrobia|c__Verrucomicrobiae|o__Verrucomicrobiales|f__Akkermansiaceae|g__Akkermansia|s__Akkermansia_muciniphila|fSGB__2382|gSGB__6531|sSGB__9228']\n",
    "#.mean()\n",
    "\n",
    "all_mbl = GutMBLoader()\n",
    "all_mb_g = all_mbl.get_data(df = 'segata_species')\n",
    "all_mb = all_mb_g.df\n",
    "set1 = all_mb[all_mb.index.isin(t1d_adults['SampleName'].values)]\n",
    "set2 = all_mb[all_mb.index.isin(control_d2_samples)]\n",
    "#loc[butirate_procucing]\n",
    "\n",
    "do_mw(set1[butirate_procucing].sum(axis=1), set2[butirate_procucing].sum(axis=1))"
   ]
  },
  {
   "cell_type": "code",
   "execution_count": null,
   "metadata": {},
   "outputs": [],
   "source": [
    "do_mw(set1[faecalibacterium].sum(axis=1), set2[faecalibacterium].sum(axis=1))"
   ]
  },
  {
   "cell_type": "code",
   "execution_count": null,
   "metadata": {},
   "outputs": [],
   "source": [
    "colors = [(0.7, 0.15, 0.15, 0.6), (0.5, 0.8, 0.5, 0.8)]\n",
    "\n",
    "def draw_plot(A, B, title=''):\n",
    "    fig, ax = plt.subplots(figsize = [3, 4])\n",
    "    bplot1 = ax.boxplot([A, B], vert=True,  patch_artist=True,  labels=['T1D', 'Healthy Control'], showfliers = False)  # will be used to label x-ticks\n",
    "    for bplot in (bplot1,):\n",
    "        for patch, color in zip(bplot['boxes'], colors):\n",
    "            patch.set_facecolor(color)\n",
    "            patch.set_linewidth(0.5)\n",
    "    for median in bplot['medians']:\n",
    "        median.set(color='k', linewidth=1,)\n",
    "    for tick in ax.xaxis.get_major_ticks():\n",
    "        tick.label.set_fontsize(11)\n",
    "    for tick in ax.yaxis.get_major_ticks():\n",
    "        tick.label.set_fontsize(11)\n",
    "    ax.set_ylabel('log abundance',  fontsize=11)\n",
    "    ax.set_title(title,  fontsize=13)\n",
    "    ax.tick_params(direction='in')\n",
    "    plt.savefig('/net/mraid08/export/genie/LabData/Data/StudySpecificData/T1D//microbiome//title.jpg', dpi=800,bbox_inches='tight')\n",
    "\n",
    "    \n",
    "    \n",
    "#draw_plot(set1[faecalibacterium].sum(axis=1).apply(lambda x: np.log(x)).values, set2[faecalibacterium].sum(axis=1).apply(lambda x: np.log(x)).values, 'Faecalibacterium prausnitzii abundance')"
   ]
  },
  {
   "cell_type": "code",
   "execution_count": null,
   "metadata": {},
   "outputs": [],
   "source": [
    "pd.concat([X, y])"
   ]
  },
  {
   "cell_type": "code",
   "execution_count": null,
   "metadata": {},
   "outputs": [],
   "source": [
    "y"
   ]
  },
  {
   "cell_type": "code",
   "execution_count": null,
   "metadata": {},
   "outputs": [],
   "source": [
    "t1d_micr_features['propionate_producing'].values"
   ]
  },
  {
   "cell_type": "code",
   "execution_count": null,
   "metadata": {},
   "outputs": [],
   "source": [
    "do_mw(t1d_micr_features['propionate_producing'].apply(lambda x: np.log(x)), control_micr_features['propionate_producing'].apply(lambda x: np.log(x)))"
   ]
  },
  {
   "cell_type": "code",
   "execution_count": null,
   "metadata": {},
   "outputs": [],
   "source": [
    "colors = [(0.7, 0.15, 0.15, 0.6), (0.5, 0.8, 0.5, 0.8)]\n",
    "\n",
    "\n",
    "    \n",
    "    \n",
    "draw_plot(t1d_micr_features['accetate_producing'].apply(lambda x: np.log(x)).values, control_micr_features['accetate_producing'].apply(lambda x: np.log(x)).values, 'Propionate Producing Bacteria')"
   ]
  },
  {
   "cell_type": "code",
   "execution_count": null,
   "metadata": {},
   "outputs": [],
   "source": [
    "colors = [(0.7, 0.15, 0.15, 0.6), (0.5, 0.8, 0.5, 0.8)]\n",
    "\n",
    "def draw_plot(A, B, title=''):\n",
    "    fig, ax = plt.subplots(figsize = [3, 4])\n",
    "    bplot1 = ax.boxplot([A, B], vert=True,  patch_artist=True,  labels=['T1D', 'Healthy Control'], showfliers = False)  # will be used to label x-ticks\n",
    "    for bplot in (bplot1,):\n",
    "        for patch, color in zip(bplot['boxes'], colors):\n",
    "            patch.set_facecolor(color)\n",
    "            patch.set_linewidth(0.5)\n",
    "    for median in bplot['medians']:\n",
    "        median.set(color='k', linewidth=1,)\n",
    "    for tick in ax.xaxis.get_major_ticks():\n",
    "        tick.label.set_fontsize(10)\n",
    "    for tick in ax.yaxis.get_major_ticks():\n",
    "        tick.label.set_fontsize(10)\n",
    "    ax.set_title(title,  fontsize=12)\n",
    "    ax.tick_params(direction='in')\n",
    "    plt.show()\n",
    "    \n",
    "    \n",
    "draw_plot(set1[faecalibacterium].sum(axis=1).values, set2[faecalibacterium].sum(axis=1).values, 'Faecalibacterium prausnitzii abundance')"
   ]
  },
  {
   "cell_type": "code",
   "execution_count": null,
   "metadata": {},
   "outputs": [],
   "source": [
    "print(set1[faecalibacterium].sum(axis=1).mean())\n",
    "print(set2[faecalibacterium].sum(axis=1).mean())\n",
    "\n",
    "\n",
    "print(ttest_ind(set1[faecalibacterium].sum(axis=1), set2[faecalibacterium].sum(axis=1)))\n",
    "\n",
    "print(do_mw(set1[faecalibacterium].sum(axis=1), set2[faecalibacterium].sum(axis=1)))"
   ]
  },
  {
   "cell_type": "code",
   "execution_count": null,
   "metadata": {},
   "outputs": [],
   "source": [
    "all_mbl = GutMBLoader()\n",
    "all_mb = all_mbl.get_data(df = 'segata_species', study_ids=[1000,6])\n",
    "all_mb = all_mb.df\n",
    "all_mb.head(3)\n",
    "set1 = all_mb[all_mb.index.isin(t1d_adults['SampleName'].values)]\n",
    "\n",
    "set2 = all_mb[all_mb.index.isin(control_d2_samples)]\n",
    "\n",
    "print(ttest_ind(set1.fillna(0.0001).apply(lambda x: shannon_divercity(x), axis=1), set2.fillna(0.0001).apply(lambda x: shannon_divercity(x), axis=1)))\n",
    "print(ttest_ind(set1.apply(lambda x: richness(x), axis=1), set2.apply(lambda x: richness(x), axis=1)))"
   ]
  },
  {
   "cell_type": "code",
   "execution_count": null,
   "metadata": {},
   "outputs": [],
   "source": [
    "print(set1.fillna(0.0001).apply(lambda x: shannon_divercity(x), axis=1).mean(), set2.fillna(0.0001).apply(lambda x: shannon_divercity(x), axis=1).mean())\n",
    "print(set1.apply(lambda x: richness(x), axis=1).mean(), set2.apply(lambda x: richness(x), axis=1).mean())"
   ]
  },
  {
   "cell_type": "code",
   "execution_count": null,
   "metadata": {},
   "outputs": [],
   "source": [
    "all_mbl = GutMBLoader()\n",
    "all_mb = all_mbl.get_data(df = 'segata_species', study_ids=[1000,6], take_log=True, min_col_present_frac=0.2)\n",
    "all_mb = all_mb.df\n",
    "all_mb.head(3)\n",
    "set1 = all_mb[all_mb.index.isin(t1d_adults['SampleName'].values)]\n",
    "\n",
    "set2 = all_mb[all_mb.index.isin(control_d2_samples)]\n",
    "\n",
    "\n",
    "from sklearn.model_selection import StratifiedKFold\n",
    "cv = StratifiedKFold(n_splits=7, shuffle=True, random_state=105)\n",
    "from sklearn.ensemble import GradientBoostingClassifier\n",
    "from sklearn.metrics import roc_curve, auc\n",
    "from sklearn.ensemble import RandomForestClassifier\n",
    "from scipy import interp\n",
    "import numpy as np\n",
    "\n",
    "set1['is t1d'] = 1\n",
    "\n",
    "set2['is t1d'] = 0\n",
    "\n",
    "X = set1.append(set2).fillna(-4)\n",
    "\n",
    "y = pd.Series(np.random.randint(2, size=X.shape[0]))\n",
    "\n",
    "#y = y.\n",
    "\n",
    "del X['is t1d']\n",
    "\n",
    "#class_weight = dict({0:1.9, 1:35})\n",
    "#classifier = RandomForestClassifier()\n",
    "classifier = GradientBoostingClassifier(n_estimators = 1000,learning_rate=.01,max_depth=4,max_features=1,min_samples_leaf=10)\n",
    "#classifier = svm.SVC(kernel='linear', probability=True,\n",
    "#                     random_state=random_state)\n",
    "#\n",
    "tprs = []\n",
    "aucs = []\n",
    "mean_fpr = np.linspace(0, 1, 100)\n",
    "y_test_all = []\n",
    "y_predict_all = []\n",
    "y_pred = []\n",
    "y_true = []\n",
    "trhresh_all = []\n",
    "\n",
    "i = 0\n",
    "for i, (train, test) in enumerate(cv.split(X, y)):\n",
    "    fitted = classifier.fit(X.iloc[train], y.iloc[train])\n",
    "    probas_ = fitted.predict_proba(X.iloc[test])\n",
    "   # y_pred += [fitted.predict(X.iloc[test])]\n",
    "   # y_true +=[y.iloc[test]]\n",
    "  #  y_predict_all+=[probas_[:, 1]]\n",
    "  #  y_test_all+=[y.iloc[test]]\n",
    "    fpr, tpr, thresholds = roc_curve(y.iloc[test], probas_[:, 1])\n",
    "    trhresh_all+=[thresholds]\n",
    "    tprs.append(interp(mean_fpr, fpr, tpr))\n",
    "    tprs[-1][0] = 0.0\n",
    "    roc_auc = auc(fpr, tpr)\n",
    "    aucs.append(roc_auc)\n",
    "    plt.plot(fpr, tpr, lw=1, alpha=0.3)\n",
    "           #  label='ROC fold %d (AUC = %0.2f)' % (i, roc_auc))\n",
    "\n",
    "    i += 1\n",
    "plt.plot([0, 1], [0, 1], linestyle='--', lw=2, color='r',\n",
    "         label='Chance', alpha=.8)\n",
    "\n",
    "mean_tpr = np.mean(tprs, axis=0)\n",
    "mean_tpr[-1] = 1.0\n",
    "mean_auc = auc(mean_fpr, mean_tpr)\n",
    "std_auc = np.std(aucs)\n",
    "plt.plot(mean_fpr, mean_tpr, color='b',\n",
    "         label=r'Mean ROC (AUC = %0.2f $\\pm$ %0.2f)' % (mean_auc, std_auc),\n",
    "         lw=2, alpha=.8)\n",
    "\n",
    "std_tpr = np.std(tprs, axis=0)\n",
    "tprs_upper = np.minimum(mean_tpr + std_tpr, 1)\n",
    "tprs_lower = np.maximum(mean_tpr - std_tpr, 0)\n",
    "plt.fill_between(mean_fpr, tprs_lower, tprs_upper, color='grey', alpha=.2,\n",
    "                 label=r'$\\pm$ 1 std. dev.')\n",
    "\n",
    "plt.xlim([-0.05, 1.05])\n",
    "plt.ylim([-0.05, 1.05])\n",
    "plt.xlabel('False Positive Rate')\n",
    "plt.ylabel('True Positive Rate')\n",
    "plt.title('Prediction of T1D from microbiome')\n",
    "plt.legend(loc=\"lower right\")\n",
    "plt.show()"
   ]
  },
  {
   "cell_type": "code",
   "execution_count": null,
   "metadata": {},
   "outputs": [],
   "source": [
    "ttest_ind(set1.fillna(0.0001).apply(lambda x: shannon_divercity(x), axis=1), set2.fillna(0.0001).apply(lambda x: shannon_divercity(x), axis=1))\n",
    "ttest_ind(set1.apply(lambda x: richness(x), axis=1), set2.apply(lambda x: richness(x), axis=1))"
   ]
  },
  {
   "cell_type": "code",
   "execution_count": null,
   "metadata": {},
   "outputs": [],
   "source": [
    "\n",
    "t1d_adults_numbers = pd.Series(list(t1d_adults.index))\n",
    "t1d_adults_numbers.name='RegistrationCode'\n",
    "t1d_adults.to_csv('/net/mraid08/export/genie/LabData/Data/StudySpecificData/T1D/t1d_adults.csv')"
   ]
  },
  {
   "cell_type": "code",
   "execution_count": null,
   "metadata": {},
   "outputs": [],
   "source": [
    "pd.read_csv('/net/mraid08/export/genie/LabData/Data/StudySpecificData/T1D/t1d_adults.csv')"
   ]
  },
  {
   "cell_type": "code",
   "execution_count": null,
   "metadata": {},
   "outputs": [],
   "source": [
    "list(control_d2_metadata['RegistrationCode'].values)"
   ]
  },
  {
   "cell_type": "code",
   "execution_count": null,
   "metadata": {},
   "outputs": [],
   "source": [
    "list(control_meta.index)"
   ]
  },
  {
   "cell_type": "code",
   "execution_count": null,
   "metadata": {},
   "outputs": [],
   "source": [
    "control_d2_metadata\n",
    "\n",
    "#['StorageDT']\n",
    "\n",
    "#.columns"
   ]
  },
  {
   "cell_type": "code",
   "execution_count": null,
   "metadata": {},
   "outputs": [],
   "source": [
    "from DataLoaders.BodyMeasuresLoader import BodyMeasuresLoader\n",
    "\n",
    "bml = BodyMeasuresLoader()\n",
    "\n",
    "bmld = bml.get_data(study_ids=[6,1000])\n",
    "\n",
    "bmld.df[bmld.df.index.get_level_values(0).isin(t1d_mbl.df_metadata['RegistrationCode'].values)]"
   ]
  },
  {
   "cell_type": "code",
   "execution_count": null,
   "metadata": {},
   "outputs": [],
   "source": [
    "bmld.df.loc[control_d2_metadata['RegistrationCode'].values]['bmi'][bmld.df.loc[control_d2_metadata['RegistrationCode'].values]['bmi']<50].dropna().hist()\n",
    "\n",
    "plt.show()"
   ]
  },
  {
   "cell_type": "code",
   "execution_count": null,
   "metadata": {},
   "outputs": [],
   "source": [
    "plt.rcParams['figure.figsize'] = [5, 3]\n",
    "\n",
    "bmld.df.loc[t1d_adults_numbers]['bmi'].dropna().hist()\n",
    "\n",
    "plt.show()"
   ]
  },
  {
   "cell_type": "code",
   "execution_count": null,
   "metadata": {},
   "outputs": [],
   "source": [
    "ttest_ind(bmld.df.loc[control_d2_metadata['RegistrationCode'].values]['bmi'].dropna(),bmld.df.loc[t2d_adults_numbers]['bmi'].dropna())"
   ]
  },
  {
   "cell_type": "code",
   "execution_count": null,
   "metadata": {},
   "outputs": [],
   "source": [
    "from DataLoaders.GutMBLoader import GutMBLoader\n",
    "\n",
    "mbl = GutMBLoader()\n",
    "\n",
    "pnp3_mbl = mbl.get_data(df='segata_species', study_ids=17)\n",
    "\n",
    "pnp3_mbl.df_metadata"
   ]
  },
  {
   "cell_type": "code",
   "execution_count": null,
   "metadata": {},
   "outputs": [],
   "source": [
    "pnp3_mbl.df_metadata[pnp3_mbl.df_metadata['RegistrationCode'].isin(['117111', '724901', '297705', '258667', '279694', '979162', '57724', '922039', '381094',\n",
    "'78283', '358113', '470856', '393528', '143892', '900460', '41275','745073', '328155', '132095'])].sort_values(['RegistrationCode', 'StorageDT'])"
   ]
  },
  {
   "cell_type": "code",
   "execution_count": null,
   "metadata": {},
   "outputs": [],
   "source": [
    "['117111', '724901', '297705', '258667', '279694', '979162', '57724', '922039', '381094',\n",
    "'78283', '358113', '470856', '393528', '143892', '900460', '41275','745073', '328155', '132095']\n"
   ]
  },
  {
   "cell_type": "code",
   "execution_count": null,
   "metadata": {},
   "outputs": [],
   "source": [
    "from DataLoaders.SerumLoader import SerumLoader"
   ]
  },
  {
   "cell_type": "code",
   "execution_count": null,
   "metadata": {},
   "outputs": [],
   "source": [
    "SerumLoader().get_data(study_ids=28).df_metadata"
   ]
  },
  {
   "cell_type": "markdown",
   "metadata": {},
   "source": [
    "family"
   ]
  },
  {
   "cell_type": "code",
   "execution_count": null,
   "metadata": {},
   "outputs": [],
   "source": [
    "all_mbl = GutMBLoader()\n",
    "all_mb = all_mbl.get_data(df = 'segata_species', take_log=True, min_col_present_frac=0.2)"
   ]
  },
  {
   "cell_type": "code",
   "execution_count": null,
   "metadata": {},
   "outputs": [],
   "source": [
    "family = pd.read_excel('/net/mraid08/export/genie/LabData/Data/StudySpecificData/T1D//family.xlsx')"
   ]
  },
  {
   "cell_type": "code",
   "execution_count": null,
   "metadata": {},
   "outputs": [],
   "source": [
    "rel_pathways = pd.read_pickle('/net/mraid08/export/genie/LabData/Data/StudySpecificData/T1D/relative_pathways.df')\n",
    "all_path =rel_pathways.notna().sum()\n",
    "interesting_pathways = all_path[all_path>100].index\n",
    "rel_pathways = interesting_pathways\n"
   ]
  },
  {
   "cell_type": "code",
   "execution_count": null,
   "metadata": {},
   "outputs": [],
   "source": [
    "all_path =rel_pathways.notna().sum()\n",
    "interesting_pathways = all_path[all_path>100].index\n",
    "\n",
    "#.hist()"
   ]
  },
  {
   "cell_type": "code",
   "execution_count": null,
   "metadata": {},
   "outputs": [],
   "source": []
  }
 ],
 "metadata": {
  "kernelspec": {
   "display_name": "Python 3",
   "language": "python",
   "name": "python3"
  },
  "language_info": {
   "codemirror_mode": {
    "name": "ipython",
    "version": 3
   },
   "file_extension": ".py",
   "mimetype": "text/x-python",
   "name": "python",
   "nbconvert_exporter": "python",
   "pygments_lexer": "ipython3",
   "version": "3.7.4"
  }
 },
 "nbformat": 4,
 "nbformat_minor": 2
}
